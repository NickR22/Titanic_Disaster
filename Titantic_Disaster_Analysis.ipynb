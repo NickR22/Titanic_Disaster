{
 "cells": [
  {
   "cell_type": "markdown",
   "id": "71217f8d-0544-4219-93cd-fb5d7279780b",
   "metadata": {},
   "source": [
    "# Titanic Disaster Analysis"
   ]
  },
  {
   "cell_type": "markdown",
   "id": "31a4b1d5-b543-47ea-83a7-160a85603ec5",
   "metadata": {},
   "source": [
    "<img src=\"https://www.slate.fr/sites/default/files/styles/1060x523/public/000_arp1718951.jpg\" width=\"1000\" height=\"500\">"
   ]
  },
  {
   "cell_type": "markdown",
   "id": "d722eff0-bbed-460a-9561-94a3a8f387b0",
   "metadata": {},
   "source": [
    "The Titanic was a British passenger liner that sank in the North Atlantic Ocean on April 15, 1912, after colliding with an iceberg during her maiden voyage from Southampton to New York City. Of the 2,224 passengers and crew on board, only 712 survived. The disaster was one of the deadliest peacetime maritime disasters in history, and it led to significant improvements in maritime safety regulations, including the requirement for ships to carry enough lifeboats for all passengers and crew."
   ]
  },
  {
   "cell_type": "code",
   "execution_count": 134,
   "id": "8eecfcd2-f2d7-4e0f-b7a1-a39f1e003db7",
   "metadata": {},
   "outputs": [],
   "source": [
    "import pandas as pd\n",
    "import pylab as pl\n",
    "import numpy as np\n",
    "import scipy.optimize as opt\n",
    "%matplotlib inline \n",
    "import matplotlib.pyplot as plt\n",
    "import seaborn as sns\n"
   ]
  },
  {
   "cell_type": "markdown",
   "id": "36c6c67c-6bff-4f62-94d9-4f44e115eeae",
   "metadata": {},
   "source": [
    "Let's import the dataset"
   ]
  },
  {
   "cell_type": "code",
   "execution_count": 2,
   "id": "b5bee584-bda3-4edd-b118-f01ffe166ea0",
   "metadata": {},
   "outputs": [
    {
     "data": {
      "text/html": [
       "<div>\n",
       "<style scoped>\n",
       "    .dataframe tbody tr th:only-of-type {\n",
       "        vertical-align: middle;\n",
       "    }\n",
       "\n",
       "    .dataframe tbody tr th {\n",
       "        vertical-align: top;\n",
       "    }\n",
       "\n",
       "    .dataframe thead th {\n",
       "        text-align: right;\n",
       "    }\n",
       "</style>\n",
       "<table border=\"1\" class=\"dataframe\">\n",
       "  <thead>\n",
       "    <tr style=\"text-align: right;\">\n",
       "      <th></th>\n",
       "      <th>PassengerId</th>\n",
       "      <th>Survived</th>\n",
       "      <th>Pclass</th>\n",
       "      <th>Name</th>\n",
       "      <th>Sex</th>\n",
       "      <th>Age</th>\n",
       "      <th>SibSp</th>\n",
       "      <th>Parch</th>\n",
       "      <th>Ticket</th>\n",
       "      <th>Fare</th>\n",
       "      <th>Cabin</th>\n",
       "      <th>Embarked</th>\n",
       "    </tr>\n",
       "  </thead>\n",
       "  <tbody>\n",
       "    <tr>\n",
       "      <th>0</th>\n",
       "      <td>1</td>\n",
       "      <td>0</td>\n",
       "      <td>3</td>\n",
       "      <td>Braund, Mr. Owen Harris</td>\n",
       "      <td>male</td>\n",
       "      <td>22.0</td>\n",
       "      <td>1</td>\n",
       "      <td>0</td>\n",
       "      <td>A/5 21171</td>\n",
       "      <td>7.2500</td>\n",
       "      <td>NaN</td>\n",
       "      <td>S</td>\n",
       "    </tr>\n",
       "    <tr>\n",
       "      <th>1</th>\n",
       "      <td>2</td>\n",
       "      <td>1</td>\n",
       "      <td>1</td>\n",
       "      <td>Cumings, Mrs. John Bradley (Florence Briggs Th...</td>\n",
       "      <td>female</td>\n",
       "      <td>38.0</td>\n",
       "      <td>1</td>\n",
       "      <td>0</td>\n",
       "      <td>PC 17599</td>\n",
       "      <td>71.2833</td>\n",
       "      <td>C85</td>\n",
       "      <td>C</td>\n",
       "    </tr>\n",
       "    <tr>\n",
       "      <th>2</th>\n",
       "      <td>3</td>\n",
       "      <td>1</td>\n",
       "      <td>3</td>\n",
       "      <td>Heikkinen, Miss. Laina</td>\n",
       "      <td>female</td>\n",
       "      <td>26.0</td>\n",
       "      <td>0</td>\n",
       "      <td>0</td>\n",
       "      <td>STON/O2. 3101282</td>\n",
       "      <td>7.9250</td>\n",
       "      <td>NaN</td>\n",
       "      <td>S</td>\n",
       "    </tr>\n",
       "    <tr>\n",
       "      <th>3</th>\n",
       "      <td>4</td>\n",
       "      <td>1</td>\n",
       "      <td>1</td>\n",
       "      <td>Futrelle, Mrs. Jacques Heath (Lily May Peel)</td>\n",
       "      <td>female</td>\n",
       "      <td>35.0</td>\n",
       "      <td>1</td>\n",
       "      <td>0</td>\n",
       "      <td>113803</td>\n",
       "      <td>53.1000</td>\n",
       "      <td>C123</td>\n",
       "      <td>S</td>\n",
       "    </tr>\n",
       "    <tr>\n",
       "      <th>4</th>\n",
       "      <td>5</td>\n",
       "      <td>0</td>\n",
       "      <td>3</td>\n",
       "      <td>Allen, Mr. William Henry</td>\n",
       "      <td>male</td>\n",
       "      <td>35.0</td>\n",
       "      <td>0</td>\n",
       "      <td>0</td>\n",
       "      <td>373450</td>\n",
       "      <td>8.0500</td>\n",
       "      <td>NaN</td>\n",
       "      <td>S</td>\n",
       "    </tr>\n",
       "  </tbody>\n",
       "</table>\n",
       "</div>"
      ],
      "text/plain": [
       "   PassengerId  Survived  Pclass  \\\n",
       "0            1         0       3   \n",
       "1            2         1       1   \n",
       "2            3         1       3   \n",
       "3            4         1       1   \n",
       "4            5         0       3   \n",
       "\n",
       "                                                Name     Sex   Age  SibSp  \\\n",
       "0                            Braund, Mr. Owen Harris    male  22.0      1   \n",
       "1  Cumings, Mrs. John Bradley (Florence Briggs Th...  female  38.0      1   \n",
       "2                             Heikkinen, Miss. Laina  female  26.0      0   \n",
       "3       Futrelle, Mrs. Jacques Heath (Lily May Peel)  female  35.0      1   \n",
       "4                           Allen, Mr. William Henry    male  35.0      0   \n",
       "\n",
       "   Parch            Ticket     Fare Cabin Embarked  \n",
       "0      0         A/5 21171   7.2500   NaN        S  \n",
       "1      0          PC 17599  71.2833   C85        C  \n",
       "2      0  STON/O2. 3101282   7.9250   NaN        S  \n",
       "3      0            113803  53.1000  C123        S  \n",
       "4      0            373450   8.0500   NaN        S  "
      ]
     },
     "execution_count": 2,
     "metadata": {},
     "output_type": "execute_result"
    }
   ],
   "source": [
    "train_tit = pd.read_csv('/Users/stratospheric/Documents/Titanic Competition/titanic/train.csv')\n",
    "train_tit.head()"
   ]
  },
  {
   "cell_type": "code",
   "execution_count": 3,
   "id": "bc96d89f-424d-4f88-8370-792388d6517c",
   "metadata": {},
   "outputs": [
    {
     "data": {
      "text/html": [
       "<div>\n",
       "<style scoped>\n",
       "    .dataframe tbody tr th:only-of-type {\n",
       "        vertical-align: middle;\n",
       "    }\n",
       "\n",
       "    .dataframe tbody tr th {\n",
       "        vertical-align: top;\n",
       "    }\n",
       "\n",
       "    .dataframe thead th {\n",
       "        text-align: right;\n",
       "    }\n",
       "</style>\n",
       "<table border=\"1\" class=\"dataframe\">\n",
       "  <thead>\n",
       "    <tr style=\"text-align: right;\">\n",
       "      <th></th>\n",
       "      <th>PassengerId</th>\n",
       "      <th>Pclass</th>\n",
       "      <th>Name</th>\n",
       "      <th>Sex</th>\n",
       "      <th>Age</th>\n",
       "      <th>SibSp</th>\n",
       "      <th>Parch</th>\n",
       "      <th>Ticket</th>\n",
       "      <th>Fare</th>\n",
       "      <th>Cabin</th>\n",
       "      <th>Embarked</th>\n",
       "    </tr>\n",
       "  </thead>\n",
       "  <tbody>\n",
       "    <tr>\n",
       "      <th>0</th>\n",
       "      <td>892</td>\n",
       "      <td>3</td>\n",
       "      <td>Kelly, Mr. James</td>\n",
       "      <td>male</td>\n",
       "      <td>34.5</td>\n",
       "      <td>0</td>\n",
       "      <td>0</td>\n",
       "      <td>330911</td>\n",
       "      <td>7.8292</td>\n",
       "      <td>NaN</td>\n",
       "      <td>Q</td>\n",
       "    </tr>\n",
       "    <tr>\n",
       "      <th>1</th>\n",
       "      <td>893</td>\n",
       "      <td>3</td>\n",
       "      <td>Wilkes, Mrs. James (Ellen Needs)</td>\n",
       "      <td>female</td>\n",
       "      <td>47.0</td>\n",
       "      <td>1</td>\n",
       "      <td>0</td>\n",
       "      <td>363272</td>\n",
       "      <td>7.0000</td>\n",
       "      <td>NaN</td>\n",
       "      <td>S</td>\n",
       "    </tr>\n",
       "    <tr>\n",
       "      <th>2</th>\n",
       "      <td>894</td>\n",
       "      <td>2</td>\n",
       "      <td>Myles, Mr. Thomas Francis</td>\n",
       "      <td>male</td>\n",
       "      <td>62.0</td>\n",
       "      <td>0</td>\n",
       "      <td>0</td>\n",
       "      <td>240276</td>\n",
       "      <td>9.6875</td>\n",
       "      <td>NaN</td>\n",
       "      <td>Q</td>\n",
       "    </tr>\n",
       "    <tr>\n",
       "      <th>3</th>\n",
       "      <td>895</td>\n",
       "      <td>3</td>\n",
       "      <td>Wirz, Mr. Albert</td>\n",
       "      <td>male</td>\n",
       "      <td>27.0</td>\n",
       "      <td>0</td>\n",
       "      <td>0</td>\n",
       "      <td>315154</td>\n",
       "      <td>8.6625</td>\n",
       "      <td>NaN</td>\n",
       "      <td>S</td>\n",
       "    </tr>\n",
       "    <tr>\n",
       "      <th>4</th>\n",
       "      <td>896</td>\n",
       "      <td>3</td>\n",
       "      <td>Hirvonen, Mrs. Alexander (Helga E Lindqvist)</td>\n",
       "      <td>female</td>\n",
       "      <td>22.0</td>\n",
       "      <td>1</td>\n",
       "      <td>1</td>\n",
       "      <td>3101298</td>\n",
       "      <td>12.2875</td>\n",
       "      <td>NaN</td>\n",
       "      <td>S</td>\n",
       "    </tr>\n",
       "  </tbody>\n",
       "</table>\n",
       "</div>"
      ],
      "text/plain": [
       "   PassengerId  Pclass                                          Name     Sex  \\\n",
       "0          892       3                              Kelly, Mr. James    male   \n",
       "1          893       3              Wilkes, Mrs. James (Ellen Needs)  female   \n",
       "2          894       2                     Myles, Mr. Thomas Francis    male   \n",
       "3          895       3                              Wirz, Mr. Albert    male   \n",
       "4          896       3  Hirvonen, Mrs. Alexander (Helga E Lindqvist)  female   \n",
       "\n",
       "    Age  SibSp  Parch   Ticket     Fare Cabin Embarked  \n",
       "0  34.5      0      0   330911   7.8292   NaN        Q  \n",
       "1  47.0      1      0   363272   7.0000   NaN        S  \n",
       "2  62.0      0      0   240276   9.6875   NaN        Q  \n",
       "3  27.0      0      0   315154   8.6625   NaN        S  \n",
       "4  22.0      1      1  3101298  12.2875   NaN        S  "
      ]
     },
     "execution_count": 3,
     "metadata": {},
     "output_type": "execute_result"
    }
   ],
   "source": [
    "test_tit = pd.read_csv('/Users/stratospheric/Documents/Titanic Competition/titanic/test.csv')\n",
    "test_tit.head()"
   ]
  },
  {
   "cell_type": "code",
   "execution_count": 4,
   "id": "ba60b41f-7b31-4f7b-b581-d71455bc47a5",
   "metadata": {},
   "outputs": [
    {
     "name": "stdout",
     "output_type": "stream",
     "text": [
      "Shape training set : (891, 12)\n",
      "Shape testing set: (418, 11)\n"
     ]
    }
   ],
   "source": [
    "print('Shape training set :',train_tit.shape)\n",
    "print('Shape testing set:',test_tit.shape)"
   ]
  },
  {
   "cell_type": "markdown",
   "id": "b14bb0b7-6204-4d97-ab43-5e68beb5c061",
   "metadata": {},
   "source": [
    "## Training Set Analysis"
   ]
  },
  {
   "cell_type": "code",
   "execution_count": 5,
   "id": "bde9fa9b-4cf5-4af1-8066-93546304f759",
   "metadata": {},
   "outputs": [
    {
     "data": {
      "text/plain": [
       "PassengerId      0\n",
       "Survived         0\n",
       "Pclass           0\n",
       "Name             0\n",
       "Sex              0\n",
       "Age            177\n",
       "SibSp            0\n",
       "Parch            0\n",
       "Ticket           0\n",
       "Fare             0\n",
       "Cabin          687\n",
       "Embarked         2\n",
       "dtype: int64"
      ]
     },
     "execution_count": 5,
     "metadata": {},
     "output_type": "execute_result"
    }
   ],
   "source": [
    "train_tit.isnull().sum()"
   ]
  },
  {
   "cell_type": "markdown",
   "id": "de44059e-1024-4785-9116-d247dfd34072",
   "metadata": {},
   "source": [
    "It seems some data is missing on Age and cabin, but how bad it is ?"
   ]
  },
  {
   "cell_type": "code",
   "execution_count": 6,
   "id": "92eb70e9-fe71-4c45-90d7-ce3c08bbddb9",
   "metadata": {},
   "outputs": [
    {
     "data": {
      "text/plain": [
       "PassengerId     0.000000\n",
       "Survived        0.000000\n",
       "Pclass          0.000000\n",
       "Name            0.000000\n",
       "Sex             0.000000\n",
       "Age            19.865320\n",
       "SibSp           0.000000\n",
       "Parch           0.000000\n",
       "Ticket          0.000000\n",
       "Fare            0.000000\n",
       "Cabin          77.104377\n",
       "Embarked        0.224467\n",
       "dtype: float64"
      ]
     },
     "execution_count": 6,
     "metadata": {},
     "output_type": "execute_result"
    }
   ],
   "source": [
    "train_tit.isnull().sum()/train_tit.shape[0]*100"
   ]
  },
  {
   "cell_type": "markdown",
   "id": "aa60697c-d29c-4a09-adec-9e2fd784c4d6",
   "metadata": {},
   "source": [
    "77% of Cabin data is missing, Cabin info may be a valuable information,because as we know the bottom of the boat sink first, so determine on what deck was passengers can be precious for the prediction. I will try to work around it.\n",
    "\n",
    "But to be sure, let's see if the Deck had real impact on survival rate."
   ]
  },
  {
   "cell_type": "markdown",
   "id": "f76d7df1-8e4d-4c16-9ee8-cee227ff747e",
   "metadata": {},
   "source": [
    "\n",
    "<img src=\"https://upload.wikimedia.org/wikipedia/commons/0/0d/Olympic_%26_Titanic_cutaway_diagram.png\" width=\"500\" height=\"500\">"
   ]
  },
  {
   "cell_type": "markdown",
   "id": "97ce7202-e7a5-4c78-b19f-8ec06df018bd",
   "metadata": {},
   "source": [
    "## Deck Pre Analysis"
   ]
  },
  {
   "cell_type": "code",
   "execution_count": 7,
   "id": "f67a35c8-7883-48c4-974d-b39222c644ad",
   "metadata": {},
   "outputs": [],
   "source": [
    "train_tit['Cabin'] = train_tit['Cabin'].astype('str')\n",
    "\n",
    "deck = []\n",
    "for cabin in train_tit['Cabin'] :\n",
    "    if cabin[0] != 'n' :\n",
    "        deck.append(cabin[0])\n",
    "    else :\n",
    "        deck.append(None)"
   ]
  },
  {
   "cell_type": "markdown",
   "id": "03bae18b-858e-4ff1-865e-847ee53fe5c7",
   "metadata": {},
   "source": [
    "The first letter of the cabin determine the deck, so I extract the first letter to create a new column called deck."
   ]
  },
  {
   "cell_type": "code",
   "execution_count": 8,
   "id": "3c4cc879-a10b-42ac-91b6-035f3d2506e9",
   "metadata": {},
   "outputs": [
    {
     "data": {
      "text/html": [
       "<div>\n",
       "<style scoped>\n",
       "    .dataframe tbody tr th:only-of-type {\n",
       "        vertical-align: middle;\n",
       "    }\n",
       "\n",
       "    .dataframe tbody tr th {\n",
       "        vertical-align: top;\n",
       "    }\n",
       "\n",
       "    .dataframe thead th {\n",
       "        text-align: right;\n",
       "    }\n",
       "</style>\n",
       "<table border=\"1\" class=\"dataframe\">\n",
       "  <thead>\n",
       "    <tr style=\"text-align: right;\">\n",
       "      <th></th>\n",
       "      <th>PassengerId</th>\n",
       "      <th>Survived</th>\n",
       "      <th>Pclass</th>\n",
       "      <th>Name</th>\n",
       "      <th>Sex</th>\n",
       "      <th>Age</th>\n",
       "      <th>SibSp</th>\n",
       "      <th>Parch</th>\n",
       "      <th>Ticket</th>\n",
       "      <th>Fare</th>\n",
       "      <th>Cabin</th>\n",
       "      <th>Embarked</th>\n",
       "      <th>Deck</th>\n",
       "    </tr>\n",
       "  </thead>\n",
       "  <tbody>\n",
       "    <tr>\n",
       "      <th>0</th>\n",
       "      <td>1</td>\n",
       "      <td>0</td>\n",
       "      <td>3</td>\n",
       "      <td>Braund, Mr. Owen Harris</td>\n",
       "      <td>male</td>\n",
       "      <td>22.0</td>\n",
       "      <td>1</td>\n",
       "      <td>0</td>\n",
       "      <td>A/5 21171</td>\n",
       "      <td>7.2500</td>\n",
       "      <td>nan</td>\n",
       "      <td>S</td>\n",
       "      <td>None</td>\n",
       "    </tr>\n",
       "    <tr>\n",
       "      <th>1</th>\n",
       "      <td>2</td>\n",
       "      <td>1</td>\n",
       "      <td>1</td>\n",
       "      <td>Cumings, Mrs. John Bradley (Florence Briggs Th...</td>\n",
       "      <td>female</td>\n",
       "      <td>38.0</td>\n",
       "      <td>1</td>\n",
       "      <td>0</td>\n",
       "      <td>PC 17599</td>\n",
       "      <td>71.2833</td>\n",
       "      <td>C85</td>\n",
       "      <td>C</td>\n",
       "      <td>C</td>\n",
       "    </tr>\n",
       "    <tr>\n",
       "      <th>2</th>\n",
       "      <td>3</td>\n",
       "      <td>1</td>\n",
       "      <td>3</td>\n",
       "      <td>Heikkinen, Miss. Laina</td>\n",
       "      <td>female</td>\n",
       "      <td>26.0</td>\n",
       "      <td>0</td>\n",
       "      <td>0</td>\n",
       "      <td>STON/O2. 3101282</td>\n",
       "      <td>7.9250</td>\n",
       "      <td>nan</td>\n",
       "      <td>S</td>\n",
       "      <td>None</td>\n",
       "    </tr>\n",
       "    <tr>\n",
       "      <th>3</th>\n",
       "      <td>4</td>\n",
       "      <td>1</td>\n",
       "      <td>1</td>\n",
       "      <td>Futrelle, Mrs. Jacques Heath (Lily May Peel)</td>\n",
       "      <td>female</td>\n",
       "      <td>35.0</td>\n",
       "      <td>1</td>\n",
       "      <td>0</td>\n",
       "      <td>113803</td>\n",
       "      <td>53.1000</td>\n",
       "      <td>C123</td>\n",
       "      <td>S</td>\n",
       "      <td>C</td>\n",
       "    </tr>\n",
       "    <tr>\n",
       "      <th>4</th>\n",
       "      <td>5</td>\n",
       "      <td>0</td>\n",
       "      <td>3</td>\n",
       "      <td>Allen, Mr. William Henry</td>\n",
       "      <td>male</td>\n",
       "      <td>35.0</td>\n",
       "      <td>0</td>\n",
       "      <td>0</td>\n",
       "      <td>373450</td>\n",
       "      <td>8.0500</td>\n",
       "      <td>nan</td>\n",
       "      <td>S</td>\n",
       "      <td>None</td>\n",
       "    </tr>\n",
       "  </tbody>\n",
       "</table>\n",
       "</div>"
      ],
      "text/plain": [
       "   PassengerId  Survived  Pclass  \\\n",
       "0            1         0       3   \n",
       "1            2         1       1   \n",
       "2            3         1       3   \n",
       "3            4         1       1   \n",
       "4            5         0       3   \n",
       "\n",
       "                                                Name     Sex   Age  SibSp  \\\n",
       "0                            Braund, Mr. Owen Harris    male  22.0      1   \n",
       "1  Cumings, Mrs. John Bradley (Florence Briggs Th...  female  38.0      1   \n",
       "2                             Heikkinen, Miss. Laina  female  26.0      0   \n",
       "3       Futrelle, Mrs. Jacques Heath (Lily May Peel)  female  35.0      1   \n",
       "4                           Allen, Mr. William Henry    male  35.0      0   \n",
       "\n",
       "   Parch            Ticket     Fare Cabin Embarked  Deck  \n",
       "0      0         A/5 21171   7.2500   nan        S  None  \n",
       "1      0          PC 17599  71.2833   C85        C     C  \n",
       "2      0  STON/O2. 3101282   7.9250   nan        S  None  \n",
       "3      0            113803  53.1000  C123        S     C  \n",
       "4      0            373450   8.0500   nan        S  None  "
      ]
     },
     "execution_count": 8,
     "metadata": {},
     "output_type": "execute_result"
    }
   ],
   "source": [
    "train_tit['Deck'] = deck\n",
    "train_tit.head()"
   ]
  },
  {
   "cell_type": "code",
   "execution_count": 9,
   "id": "ad4e73dd-8de2-43e5-abdd-c5a4f8fc9e2c",
   "metadata": {},
   "outputs": [
    {
     "data": {
      "text/plain": [
       "C    59\n",
       "B    47\n",
       "D    33\n",
       "E    32\n",
       "A    15\n",
       "F    13\n",
       "G     4\n",
       "T     1\n",
       "Name: Deck, dtype: int64"
      ]
     },
     "execution_count": 9,
     "metadata": {},
     "output_type": "execute_result"
    }
   ],
   "source": [
    "train_tit['Deck'].value_counts()"
   ]
  },
  {
   "cell_type": "markdown",
   "id": "8df41521-b7fa-400a-b59f-4484e529c8dc",
   "metadata": {},
   "source": [
    "As we see, there is 8 decks."
   ]
  },
  {
   "cell_type": "markdown",
   "id": "420e948e-0535-4c57-bcc2-19ba194eb6c6",
   "metadata": {},
   "source": [
    "I replace letter by number to be able to plot the relationship."
   ]
  },
  {
   "cell_type": "code",
   "execution_count": 10,
   "id": "861d4847-f22d-4157-888f-1d49b44871e4",
   "metadata": {},
   "outputs": [],
   "source": [
    "deck_dum = train_tit\n",
    "deck_dum['Deck'].replace('A', 1, inplace=True)\n",
    "deck_dum['Deck'].replace('B', 2, inplace=True)\n",
    "deck_dum['Deck'].replace('C', 3, inplace=True)\n",
    "deck_dum['Deck'].replace('D', 4, inplace=True)\n",
    "deck_dum['Deck'].replace('E', 5, inplace=True)\n",
    "deck_dum['Deck'].replace('F', 6, inplace=True)\n",
    "deck_dum['Deck'].replace('G', 7, inplace=True)\n",
    "deck_dum['Deck'].replace('T', 8, inplace=True)\n",
    "\n",
    "deck_dum = deck_dum.dropna(subset=['Deck'])\n"
   ]
  },
  {
   "cell_type": "code",
   "execution_count": 11,
   "id": "d3073326-2b0b-4ce7-a2c9-dffe44a90b9c",
   "metadata": {},
   "outputs": [
    {
     "data": {
      "text/html": [
       "<div>\n",
       "<style scoped>\n",
       "    .dataframe tbody tr th:only-of-type {\n",
       "        vertical-align: middle;\n",
       "    }\n",
       "\n",
       "    .dataframe tbody tr th {\n",
       "        vertical-align: top;\n",
       "    }\n",
       "\n",
       "    .dataframe thead th {\n",
       "        text-align: right;\n",
       "    }\n",
       "</style>\n",
       "<table border=\"1\" class=\"dataframe\">\n",
       "  <thead>\n",
       "    <tr style=\"text-align: right;\">\n",
       "      <th></th>\n",
       "      <th>PassengerId</th>\n",
       "      <th>Survived</th>\n",
       "      <th>Pclass</th>\n",
       "      <th>Name</th>\n",
       "      <th>Sex</th>\n",
       "      <th>Age</th>\n",
       "      <th>SibSp</th>\n",
       "      <th>Parch</th>\n",
       "      <th>Ticket</th>\n",
       "      <th>Fare</th>\n",
       "      <th>Cabin</th>\n",
       "      <th>Embarked</th>\n",
       "      <th>Deck</th>\n",
       "    </tr>\n",
       "  </thead>\n",
       "  <tbody>\n",
       "    <tr>\n",
       "      <th>1</th>\n",
       "      <td>2</td>\n",
       "      <td>1</td>\n",
       "      <td>1</td>\n",
       "      <td>Cumings, Mrs. John Bradley (Florence Briggs Th...</td>\n",
       "      <td>female</td>\n",
       "      <td>38.0</td>\n",
       "      <td>1</td>\n",
       "      <td>0</td>\n",
       "      <td>PC 17599</td>\n",
       "      <td>71.2833</td>\n",
       "      <td>C85</td>\n",
       "      <td>C</td>\n",
       "      <td>3.0</td>\n",
       "    </tr>\n",
       "    <tr>\n",
       "      <th>3</th>\n",
       "      <td>4</td>\n",
       "      <td>1</td>\n",
       "      <td>1</td>\n",
       "      <td>Futrelle, Mrs. Jacques Heath (Lily May Peel)</td>\n",
       "      <td>female</td>\n",
       "      <td>35.0</td>\n",
       "      <td>1</td>\n",
       "      <td>0</td>\n",
       "      <td>113803</td>\n",
       "      <td>53.1000</td>\n",
       "      <td>C123</td>\n",
       "      <td>S</td>\n",
       "      <td>3.0</td>\n",
       "    </tr>\n",
       "    <tr>\n",
       "      <th>6</th>\n",
       "      <td>7</td>\n",
       "      <td>0</td>\n",
       "      <td>1</td>\n",
       "      <td>McCarthy, Mr. Timothy J</td>\n",
       "      <td>male</td>\n",
       "      <td>54.0</td>\n",
       "      <td>0</td>\n",
       "      <td>0</td>\n",
       "      <td>17463</td>\n",
       "      <td>51.8625</td>\n",
       "      <td>E46</td>\n",
       "      <td>S</td>\n",
       "      <td>5.0</td>\n",
       "    </tr>\n",
       "    <tr>\n",
       "      <th>10</th>\n",
       "      <td>11</td>\n",
       "      <td>1</td>\n",
       "      <td>3</td>\n",
       "      <td>Sandstrom, Miss. Marguerite Rut</td>\n",
       "      <td>female</td>\n",
       "      <td>4.0</td>\n",
       "      <td>1</td>\n",
       "      <td>1</td>\n",
       "      <td>PP 9549</td>\n",
       "      <td>16.7000</td>\n",
       "      <td>G6</td>\n",
       "      <td>S</td>\n",
       "      <td>7.0</td>\n",
       "    </tr>\n",
       "    <tr>\n",
       "      <th>11</th>\n",
       "      <td>12</td>\n",
       "      <td>1</td>\n",
       "      <td>1</td>\n",
       "      <td>Bonnell, Miss. Elizabeth</td>\n",
       "      <td>female</td>\n",
       "      <td>58.0</td>\n",
       "      <td>0</td>\n",
       "      <td>0</td>\n",
       "      <td>113783</td>\n",
       "      <td>26.5500</td>\n",
       "      <td>C103</td>\n",
       "      <td>S</td>\n",
       "      <td>3.0</td>\n",
       "    </tr>\n",
       "  </tbody>\n",
       "</table>\n",
       "</div>"
      ],
      "text/plain": [
       "    PassengerId  Survived  Pclass  \\\n",
       "1             2         1       1   \n",
       "3             4         1       1   \n",
       "6             7         0       1   \n",
       "10           11         1       3   \n",
       "11           12         1       1   \n",
       "\n",
       "                                                 Name     Sex   Age  SibSp  \\\n",
       "1   Cumings, Mrs. John Bradley (Florence Briggs Th...  female  38.0      1   \n",
       "3        Futrelle, Mrs. Jacques Heath (Lily May Peel)  female  35.0      1   \n",
       "6                             McCarthy, Mr. Timothy J    male  54.0      0   \n",
       "10                    Sandstrom, Miss. Marguerite Rut  female   4.0      1   \n",
       "11                           Bonnell, Miss. Elizabeth  female  58.0      0   \n",
       "\n",
       "    Parch    Ticket     Fare Cabin Embarked  Deck  \n",
       "1       0  PC 17599  71.2833   C85        C   3.0  \n",
       "3       0    113803  53.1000  C123        S   3.0  \n",
       "6       0     17463  51.8625   E46        S   5.0  \n",
       "10      1   PP 9549  16.7000    G6        S   7.0  \n",
       "11      0    113783  26.5500  C103        S   3.0  "
      ]
     },
     "execution_count": 11,
     "metadata": {},
     "output_type": "execute_result"
    }
   ],
   "source": [
    "deck_dum.head()"
   ]
  },
  {
   "cell_type": "code",
   "execution_count": 12,
   "id": "3b9eef79-2c1f-42e1-9e6c-eb6240db9657",
   "metadata": {},
   "outputs": [
    {
     "data": {
      "text/plain": [
       "<Axes: xlabel='Deck', ylabel='Survived'>"
      ]
     },
     "execution_count": 12,
     "metadata": {},
     "output_type": "execute_result"
    },
    {
     "data": {
      "image/png": "[encoded data removed]",
      "text/plain": [
       "<Figure size 640x480 with 1 Axes>"
      ]
     },
     "metadata": {},
     "output_type": "display_data"
    }
   ],
   "source": [
    "sns.regplot(deck_dum, x='Deck', y='Survived')"
   ]
  },
  {
   "cell_type": "markdown",
   "id": "66941ff0-31b5-4825-8ec3-e0eb4e65aecf",
   "metadata": {},
   "source": [
    "### Insight"
   ]
  },
  {
   "cell_type": "markdown",
   "id": "a41d4866-be6e-4025-986a-bdbe450697a5",
   "metadata": {},
   "source": [
    "After analyzing the plot, it appears that there is no significant relationship between the Deck and Survival Rate. \n",
    "\n",
    "Therefore, it can be concluded that determining the deck of passengers would not improve the accuracy of our analysis. As a result, I have decided to delete the `Cabin` and `Deck`columns from the dataset, as they are no longer needed for our analysis."
   ]
  },
  {
   "cell_type": "code",
   "execution_count": 13,
   "id": "1e8f15f2-67cf-47a1-8bf4-255729589ee6",
   "metadata": {},
   "outputs": [
    {
     "data": {
      "text/plain": [
       "Index(['PassengerId', 'Survived', 'Pclass', 'Name', 'Sex', 'Age', 'SibSp',\n",
       "       'Parch', 'Ticket', 'Fare', 'Embarked'],\n",
       "      dtype='object')"
      ]
     },
     "execution_count": 13,
     "metadata": {},
     "output_type": "execute_result"
    }
   ],
   "source": [
    "train_tit.drop([\"Cabin\",\"Deck\"],axis=1, inplace=True)\n",
    "train_tit.columns"
   ]
  },
  {
   "cell_type": "markdown",
   "id": "3fdceb92-d506-424d-b352-e31f3dc57b6d",
   "metadata": {},
   "source": [
    "## Statiscal Analysis"
   ]
  },
  {
   "cell_type": "markdown",
   "id": "c5f12e1c-d684-477b-b268-69b06a9e961f",
   "metadata": {},
   "source": [
    "For now let's explore a little"
   ]
  },
  {
   "cell_type": "code",
   "execution_count": null,
   "id": "5165f067-4031-4f75-8200-fa55db4509ec",
   "metadata": {},
   "outputs": [
    {
     "data": {
      "text/html": [
       "<div>\n",
       "<style scoped>\n",
       "    .dataframe tbody tr th:only-of-type {\n",
       "        vertical-align: middle;\n",
       "    }\n",
       "\n",
       "    .dataframe tbody tr th {\n",
       "        vertical-align: top;\n",
       "    }\n",
       "\n",
       "    .dataframe thead th {\n",
       "        text-align: right;\n",
       "    }\n",
       "</style>\n",
       "<table border=\"1\" class=\"dataframe\">\n",
       "  <thead>\n",
       "    <tr style=\"text-align: right;\">\n",
       "      <th></th>\n",
       "      <th>PassengerId</th>\n",
       "      <th>Survived</th>\n",
       "      <th>Pclass</th>\n",
       "      <th>Age</th>\n",
       "      <th>SibSp</th>\n",
       "      <th>Parch</th>\n",
       "      <th>Fare</th>\n",
       "    </tr>\n",
       "  </thead>\n",
       "  <tbody>\n",
       "    <tr>\n",
       "      <th>count</th>\n",
       "      <td>891.000000</td>\n",
       "      <td>891.000000</td>\n",
       "      <td>891.000000</td>\n",
       "      <td>714.000000</td>\n",
       "      <td>891.000000</td>\n",
       "      <td>891.000000</td>\n",
       "      <td>891.000000</td>\n",
       "    </tr>\n",
       "    <tr>\n",
       "      <th>mean</th>\n",
       "      <td>446.000000</td>\n",
       "      <td>0.383838</td>\n",
       "      <td>2.308642</td>\n",
       "      <td>29.699118</td>\n",
       "      <td>0.523008</td>\n",
       "      <td>0.381594</td>\n",
       "      <td>32.204208</td>\n",
       "    </tr>\n",
       "    <tr>\n",
       "      <th>std</th>\n",
       "      <td>257.353842</td>\n",
       "      <td>0.486592</td>\n",
       "      <td>0.836071</td>\n",
       "      <td>14.526497</td>\n",
       "      <td>1.102743</td>\n",
       "      <td>0.806057</td>\n",
       "      <td>49.693429</td>\n",
       "    </tr>\n",
       "    <tr>\n",
       "      <th>min</th>\n",
       "      <td>1.000000</td>\n",
       "      <td>0.000000</td>\n",
       "      <td>1.000000</td>\n",
       "      <td>0.420000</td>\n",
       "      <td>0.000000</td>\n",
       "      <td>0.000000</td>\n",
       "      <td>0.000000</td>\n",
       "    </tr>\n",
       "    <tr>\n",
       "      <th>25%</th>\n",
       "      <td>223.500000</td>\n",
       "      <td>0.000000</td>\n",
       "      <td>2.000000</td>\n",
       "      <td>20.125000</td>\n",
       "      <td>0.000000</td>\n",
       "      <td>0.000000</td>\n",
       "      <td>7.910400</td>\n",
       "    </tr>\n",
       "    <tr>\n",
       "      <th>50%</th>\n",
       "      <td>446.000000</td>\n",
       "      <td>0.000000</td>\n",
       "      <td>3.000000</td>\n",
       "      <td>28.000000</td>\n",
       "      <td>0.000000</td>\n",
       "      <td>0.000000</td>\n",
       "      <td>14.454200</td>\n",
       "    </tr>\n",
       "    <tr>\n",
       "      <th>75%</th>\n",
       "      <td>668.500000</td>\n",
       "      <td>1.000000</td>\n",
       "      <td>3.000000</td>\n",
       "      <td>38.000000</td>\n",
       "      <td>1.000000</td>\n",
       "      <td>0.000000</td>\n",
       "      <td>31.000000</td>\n",
       "    </tr>\n",
       "    <tr>\n",
       "      <th>max</th>\n",
       "      <td>891.000000</td>\n",
       "      <td>1.000000</td>\n",
       "      <td>3.000000</td>\n",
       "      <td>80.000000</td>\n",
       "      <td>8.000000</td>\n",
       "      <td>6.000000</td>\n",
       "      <td>512.329200</td>\n",
       "    </tr>\n",
       "  </tbody>\n",
       "</table>\n",
       "</div>"
      ],
      "text/plain": [
       "       PassengerId    Survived      Pclass         Age       SibSp  \\\n",
       "count   891.000000  891.000000  891.000000  714.000000  891.000000   \n",
       "mean    446.000000    0.383838    2.308642   29.699118    0.523008   \n",
       "std     257.353842    0.486592    0.836071   14.526497    1.102743   \n",
       "min       1.000000    0.000000    1.000000    0.420000    0.000000   \n",
       "25%     223.500000    0.000000    2.000000   20.125000    0.000000   \n",
       "50%     446.000000    0.000000    3.000000   28.000000    0.000000   \n",
       "75%     668.500000    1.000000    3.000000   38.000000    1.000000   \n",
       "max     891.000000    1.000000    3.000000   80.000000    8.000000   \n",
       "\n",
       "            Parch        Fare  \n",
       "count  891.000000  891.000000  \n",
       "mean     0.381594   32.204208  \n",
       "std      0.806057   49.693429  \n",
       "min      0.000000    0.000000  \n",
       "25%      0.000000    7.910400  \n",
       "50%      0.000000   14.454200  \n",
       "75%      0.000000   31.000000  \n",
       "max      6.000000  512.329200  "
      ]
     },
     "execution_count": 48,
     "metadata": {},
     "output_type": "execute_result"
    }
   ],
   "source": [
    "train_tit.describe()"
   ]
  },
  {
   "cell_type": "markdown",
   "id": "40641e57-d0fc-43b2-b0b0-5a099c0c679a",
   "metadata": {},
   "source": [
    "Our dataset includes a survival rate of 38%. \n",
    "\n",
    "The average age of the passengers was 30 years old, which is relatively young. \n",
    "\n",
    "The oldest male passenger was 80 years old. \n",
    "\n",
    "The highest ticket fare was 512 (currency unknown), but after some research it seems that the currency is £.\n",
    "\n",
    "Interestingly, 38% of the survivors were either parents or children. \n",
    "\n",
    "Additionally, 52% of the passengers had no siblings or spouses, indicating that some individuals were travelling alone. \n",
    "\n",
    "It should be noted that the dataset only contains 891 entries, despite there being 2224 passengers onboard the Titanic."
   ]
  },
  {
   "cell_type": "markdown",
   "id": "c46cbd33-f073-4502-977d-4ba64e0ef669",
   "metadata": {},
   "source": [
    "\n",
    "Who are those passengers who pay the highest price for this trip ?"
   ]
  },
  {
   "cell_type": "code",
   "execution_count": 66,
   "id": "7745ab5e-c56a-4060-8969-01babb955696",
   "metadata": {},
   "outputs": [
    {
     "data": {
      "text/plain": [
       "258                      Ward, Miss. Anna\n",
       "679    Cardeza, Mr. Thomas Drake Martinez\n",
       "737                Lesurer, Mr. Gustave J\n",
       "Name: Name, dtype: object"
      ]
     },
     "execution_count": 66,
     "metadata": {},
     "output_type": "execute_result"
    }
   ],
   "source": [
    "train_tit.loc[train_tit['Fare'] > 512, 'Name']\n"
   ]
  },
  {
   "cell_type": "markdown",
   "id": "1013694e-3980-4ca1-ae88-e26b59572407",
   "metadata": {},
   "source": [
    "Did they survived ?"
   ]
  },
  {
   "cell_type": "code",
   "execution_count": 68,
   "id": "e87ec227-a91f-43ef-9b9b-12dd3298e959",
   "metadata": {},
   "outputs": [
    {
     "data": {
      "text/plain": [
       "258    1\n",
       "679    1\n",
       "737    1\n",
       "Name: Survived, dtype: int64"
      ]
     },
     "execution_count": 68,
     "metadata": {},
     "output_type": "execute_result"
    }
   ],
   "source": [
    "train_tit.loc[train_tit['Fare'] > 512, 'Survived']\n"
   ]
  },
  {
   "cell_type": "markdown",
   "id": "d2e5557e-5170-4a01-8219-2f554c23a811",
   "metadata": {},
   "source": [
    "Yes, all of them.\n",
    "It opens a question : People who paid higher have a better chance to survive ?"
   ]
  },
  {
   "cell_type": "markdown",
   "id": "26118c8d-e37a-4c3d-a17b-1ee3ded0e9ef",
   "metadata": {},
   "source": [
    "## Class and Price"
   ]
  },
  {
   "cell_type": "markdown",
   "id": "ae7a1b6f-74f5-4f5d-b13c-bf6a9cc9b3bc",
   "metadata": {},
   "source": [
    "We know the Class and the Price of the Ticket, I assume the more the class is cheap, the more the fare is low."
   ]
  },
  {
   "cell_type": "code",
   "execution_count": null,
   "id": "3e7c8d91-643f-4ffd-87d7-52355000dc45",
   "metadata": {},
   "outputs": [
    {
     "data": {
      "image/png": "[encoded data removed]",
      "text/plain": [
       "<Figure size 640x480 with 1 Axes>"
      ]
     },
     "metadata": {},
     "output_type": "display_data"
    },
    {
     "data": {
      "text/html": [
       "<div>\n",
       "<style scoped>\n",
       "    .dataframe tbody tr th:only-of-type {\n",
       "        vertical-align: middle;\n",
       "    }\n",
       "\n",
       "    .dataframe tbody tr th {\n",
       "        vertical-align: top;\n",
       "    }\n",
       "\n",
       "    .dataframe thead th {\n",
       "        text-align: right;\n",
       "    }\n",
       "</style>\n",
       "<table border=\"1\" class=\"dataframe\">\n",
       "  <thead>\n",
       "    <tr style=\"text-align: right;\">\n",
       "      <th></th>\n",
       "      <th>Pclass</th>\n",
       "      <th>Fare</th>\n",
       "    </tr>\n",
       "  </thead>\n",
       "  <tbody>\n",
       "    <tr>\n",
       "      <th>Pclass</th>\n",
       "      <td>1.0000</td>\n",
       "      <td>-0.5495</td>\n",
       "    </tr>\n",
       "    <tr>\n",
       "      <th>Fare</th>\n",
       "      <td>-0.5495</td>\n",
       "      <td>1.0000</td>\n",
       "    </tr>\n",
       "  </tbody>\n",
       "</table>\n",
       "</div>"
      ],
      "text/plain": [
       "        Pclass    Fare\n",
       "Pclass  1.0000 -0.5495\n",
       "Fare   -0.5495  1.0000"
      ]
     },
     "execution_count": 76,
     "metadata": {},
     "output_type": "execute_result"
    }
   ],
   "source": [
    "\n",
    "sns.boxplot(train_tit, x='Pclass', y='Fare')\n",
    "plt.show()\n",
    "train_tit[['Pclass','Fare']].corr()"
   ]
  },
  {
   "cell_type": "markdown",
   "id": "0ff50095-db3d-4dde-b4fc-71e6787a8314",
   "metadata": {},
   "source": [
    "The boxplot shows a clear relationship between the price and the class of the tickets, as we might expect. However, what is interesting is that the range of prices for first class tickets is much wider than the range for other classes.\n",
    "\n",
    "Moreover, we observed some outliers in the third class, where passengers paid prices as high as those in the first class. This is a surprising finding that warrants further investigation."
   ]
  },
  {
   "cell_type": "markdown",
   "id": "ba731842-a1f0-4bab-805f-97207360dd7b",
   "metadata": {},
   "source": [
    "It ask a question : The more they paid, the more they survived ?"
   ]
  },
  {
   "cell_type": "code",
   "execution_count": 213,
   "id": "77c51e22-b8b0-4bb9-8906-f1aa2db7dc16",
   "metadata": {},
   "outputs": [
    {
     "data": {
      "text/html": [
       "<div>\n",
       "<style scoped>\n",
       "    .dataframe tbody tr th:only-of-type {\n",
       "        vertical-align: middle;\n",
       "    }\n",
       "\n",
       "    .dataframe tbody tr th {\n",
       "        vertical-align: top;\n",
       "    }\n",
       "\n",
       "    .dataframe thead th {\n",
       "        text-align: right;\n",
       "    }\n",
       "</style>\n",
       "<table border=\"1\" class=\"dataframe\">\n",
       "  <thead>\n",
       "    <tr style=\"text-align: right;\">\n",
       "      <th></th>\n",
       "      <th>Survived</th>\n",
       "      <th>Fare</th>\n",
       "    </tr>\n",
       "  </thead>\n",
       "  <tbody>\n",
       "    <tr>\n",
       "      <th>Survived</th>\n",
       "      <td>1.000000</td>\n",
       "      <td>0.257307</td>\n",
       "    </tr>\n",
       "    <tr>\n",
       "      <th>Fare</th>\n",
       "      <td>0.257307</td>\n",
       "      <td>1.000000</td>\n",
       "    </tr>\n",
       "  </tbody>\n",
       "</table>\n",
       "</div>"
      ],
      "text/plain": [
       "          Survived      Fare\n",
       "Survived  1.000000  0.257307\n",
       "Fare      0.257307  1.000000"
      ]
     },
     "execution_count": 213,
     "metadata": {},
     "output_type": "execute_result"
    },
    {
     "data": {
      "image/png": "[encoded data removed]",
      "text/plain": [
       "<Figure size 640x480 with 1 Axes>"
      ]
     },
     "metadata": {},
     "output_type": "display_data"
    }
   ],
   "source": [
    "sns.regplot(train_tit, x='Fare', y='Survived')\n",
    "train_tit[['Survived','Fare']].corr()"
   ]
  },
  {
   "cell_type": "markdown",
   "id": "a754ced1-b464-4d24-827c-a6d28d84c0b6",
   "metadata": {},
   "source": [
    "### Insight"
   ]
  },
  {
   "cell_type": "markdown",
   "id": "1fff05b3-4fa4-4ff9-84dd-3162aafa21e4",
   "metadata": {},
   "source": [
    "In response to the question of whether the more passengers pay, the more likely they are to survive, the answer is somewhat complex. \n",
    "\n",
    "There does appear to be a relationship between fare and survival, but the strength of this relationship is not consistent across all values of the fare.\n",
    "\n",
    "As the fare increases, the variance also increases, which indicates that there is less correlation between the fare and survival at higher values. However, for fares between 0 and 100£, the correlation appears to be quite strong.\n",
    "\n",
    "If we look closer, we can see that the variance increase when we move beyond the 3rd quartile of the first class fare. It makes sense.\n",
    "\n",
    "So passenger class seems more important than the price of the ticket."
   ]
  },
  {
   "cell_type": "markdown",
   "id": "0cbb8f93-6ddf-445f-9b5b-734c29bfa35a",
   "metadata": {},
   "source": [
    "## Class analysis"
   ]
  },
  {
   "cell_type": "markdown",
   "id": "e5088294-ace0-4984-aaf9-fd7942635336",
   "metadata": {},
   "source": [
    "In this section, we will investigate the relationship between class and survival rate, and then examine the impact of the 'Sex' factor on this relationship."
   ]
  },
  {
   "cell_type": "code",
   "execution_count": 75,
   "id": "a43a09b7-f010-45f4-826b-14e0a5817d6f",
   "metadata": {},
   "outputs": [
    {
     "data": {
      "image/png": "[encoded data removed]",
      "text/plain": [
       "<Figure size 640x480 with 1 Axes>"
      ]
     },
     "metadata": {},
     "output_type": "display_data"
    }
   ],
   "source": [
    "sns.regplot(train_tit, x='Pclass', y='Survived')\n",
    "plt.title('Relationship between Class and Survivability')\n",
    "plt.xlabel('Passenger Class')\n",
    "plt.ylabel('Survivability')\n",
    "plt.show()"
   ]
  },
  {
   "cell_type": "code",
   "execution_count": 256,
   "id": "97dd9690-29bd-488d-9c68-d634f0c9c2fc",
   "metadata": {},
   "outputs": [
    {
     "data": {
      "text/html": [
       "<div>\n",
       "<style scoped>\n",
       "    .dataframe tbody tr th:only-of-type {\n",
       "        vertical-align: middle;\n",
       "    }\n",
       "\n",
       "    .dataframe tbody tr th {\n",
       "        vertical-align: top;\n",
       "    }\n",
       "\n",
       "    .dataframe thead th {\n",
       "        text-align: right;\n",
       "    }\n",
       "</style>\n",
       "<table border=\"1\" class=\"dataframe\">\n",
       "  <thead>\n",
       "    <tr style=\"text-align: right;\">\n",
       "      <th></th>\n",
       "      <th>Pclass</th>\n",
       "      <th>Survived</th>\n",
       "    </tr>\n",
       "  </thead>\n",
       "  <tbody>\n",
       "    <tr>\n",
       "      <th>Pclass</th>\n",
       "      <td>1.000000</td>\n",
       "      <td>-0.338481</td>\n",
       "    </tr>\n",
       "    <tr>\n",
       "      <th>Survived</th>\n",
       "      <td>-0.338481</td>\n",
       "      <td>1.000000</td>\n",
       "    </tr>\n",
       "  </tbody>\n",
       "</table>\n",
       "</div>"
      ],
      "text/plain": [
       "            Pclass  Survived\n",
       "Pclass    1.000000 -0.338481\n",
       "Survived -0.338481  1.000000"
      ]
     },
     "execution_count": 256,
     "metadata": {},
     "output_type": "execute_result"
    }
   ],
   "source": [
    "train_tit[['Pclass','Survived']].corr()"
   ]
  },
  {
   "cell_type": "markdown",
   "id": "068e2154-ff41-4c53-9fac-a6c359c555a6",
   "metadata": {},
   "source": [
    "The answer is clearly, yes.\n",
    "The better is the class, the better is the chance to survive."
   ]
  },
  {
   "cell_type": "markdown",
   "id": "e53059f2-bcd0-44d0-b59d-cfe9d623e422",
   "metadata": {},
   "source": [
    "### Gender factor"
   ]
  },
  {
   "cell_type": "markdown",
   "id": "88c0a8a9-e016-4af4-8b9b-1b43f7b90b8b",
   "metadata": {},
   "source": [
    "Let's examine whether gender was a determining factor in surviving the Titanic disaster. \n",
    "While the phrase \"Women and Children first\" was famously used in the movie, we need to investigate whether it holds true in our dataset."
   ]
  },
  {
   "cell_type": "code",
   "execution_count": 77,
   "id": "af2f5d61-4322-45da-8320-0f2f2aeff355",
   "metadata": {},
   "outputs": [
    {
     "data": {
      "text/plain": [
       "male      577\n",
       "female    314\n",
       "Name: Sex, dtype: int64"
      ]
     },
     "execution_count": 77,
     "metadata": {},
     "output_type": "execute_result"
    }
   ],
   "source": [
    "train_tit['Sex'].value_counts()"
   ]
  },
  {
   "cell_type": "code",
   "execution_count": 83,
   "id": "43a8458f-c740-4989-99c2-fa17eb3d8238",
   "metadata": {},
   "outputs": [
    {
     "data": {
      "image/png": "[encoded data removed]",
      "text/plain": [
       "<Figure size 572.111x500 with 1 Axes>"
      ]
     },
     "metadata": {},
     "output_type": "display_data"
    }
   ],
   "source": [
    "sns.catplot(train_tit, x='Sex', y='Pclass', hue='Survived')\n",
    "plt.title('Relationship between Sex and Survivability by Class')\n",
    "plt.xlabel('Sex')\n",
    "plt.ylabel('Passenger Class')\n",
    "plt.show()"
   ]
  },
  {
   "cell_type": "markdown",
   "id": "40862f0e-6853-4b53-8e12-20e1867a51c1",
   "metadata": {},
   "source": [
    "Wow that's interesting !\n",
    "\n",
    "Female had a higher survival rate compared to male overall. However, male in first class seems to had a higher survival rate comparable to female in third class."
   ]
  },
  {
   "cell_type": "markdown",
   "id": "51d4d839-ff96-4c29-8852-35806d0947b3",
   "metadata": {},
   "source": [
    "Let's take a dive into it.\n",
    "\n",
    "First, I create a dataframe with only female, grouped by class."
   ]
  },
  {
   "cell_type": "code",
   "execution_count": 167,
   "id": "4da16094-4b4c-4224-9f5e-2d5055fd86ce",
   "metadata": {},
   "outputs": [
    {
     "data": {
      "text/html": [
       "<div>\n",
       "<style scoped>\n",
       "    .dataframe tbody tr th:only-of-type {\n",
       "        vertical-align: middle;\n",
       "    }\n",
       "\n",
       "    .dataframe tbody tr th {\n",
       "        vertical-align: top;\n",
       "    }\n",
       "\n",
       "    .dataframe thead th {\n",
       "        text-align: right;\n",
       "    }\n",
       "</style>\n",
       "<table border=\"1\" class=\"dataframe\">\n",
       "  <thead>\n",
       "    <tr style=\"text-align: right;\">\n",
       "      <th></th>\n",
       "      <th></th>\n",
       "      <th>Survived</th>\n",
       "      <th>percent_f</th>\n",
       "    </tr>\n",
       "    <tr>\n",
       "      <th>Pclass</th>\n",
       "      <th>Survived</th>\n",
       "      <th></th>\n",
       "      <th></th>\n",
       "    </tr>\n",
       "  </thead>\n",
       "  <tbody>\n",
       "    <tr>\n",
       "      <th rowspan=\"2\" valign=\"top\">1</th>\n",
       "      <th>1</th>\n",
       "      <td>91</td>\n",
       "      <td>28.98</td>\n",
       "    </tr>\n",
       "    <tr>\n",
       "      <th>0</th>\n",
       "      <td>3</td>\n",
       "      <td>0.96</td>\n",
       "    </tr>\n",
       "    <tr>\n",
       "      <th rowspan=\"2\" valign=\"top\">2</th>\n",
       "      <th>1</th>\n",
       "      <td>70</td>\n",
       "      <td>22.29</td>\n",
       "    </tr>\n",
       "    <tr>\n",
       "      <th>0</th>\n",
       "      <td>6</td>\n",
       "      <td>1.91</td>\n",
       "    </tr>\n",
       "    <tr>\n",
       "      <th rowspan=\"2\" valign=\"top\">3</th>\n",
       "      <th>0</th>\n",
       "      <td>72</td>\n",
       "      <td>22.93</td>\n",
       "    </tr>\n",
       "    <tr>\n",
       "      <th>1</th>\n",
       "      <td>72</td>\n",
       "      <td>22.93</td>\n",
       "    </tr>\n",
       "  </tbody>\n",
       "</table>\n",
       "</div>"
      ],
      "text/plain": [
       "                 Survived  percent_f\n",
       "Pclass Survived                     \n",
       "1      1               91      28.98\n",
       "       0                3       0.96\n",
       "2      1               70      22.29\n",
       "       0                6       1.91\n",
       "3      0               72      22.93\n",
       "       1               72      22.93"
      ]
     },
     "execution_count": 167,
     "metadata": {},
     "output_type": "execute_result"
    }
   ],
   "source": [
    "women = train_tit[train_tit['Sex'] == 'female']\n",
    "\n",
    "\n",
    "women_s = women.groupby('Pclass')['Survived'].value_counts().to_frame()\n",
    "women_s['percent_f'] = women_s['Survived']/women_s['Survived'].sum()*100\n",
    "women_s['percent_f'] = round(women_s['percent_f'],2)\n",
    "women_s"
   ]
  },
  {
   "cell_type": "markdown",
   "id": "49d6e0a5-49f3-4fe4-9b51-55f7ce64eca9",
   "metadata": {},
   "source": [
    "Then I do the same for male."
   ]
  },
  {
   "cell_type": "code",
   "execution_count": 191,
   "id": "07a69afd-1ad7-4e19-99ab-eb21310020b4",
   "metadata": {},
   "outputs": [
    {
     "data": {
      "text/html": [
       "<div>\n",
       "<style scoped>\n",
       "    .dataframe tbody tr th:only-of-type {\n",
       "        vertical-align: middle;\n",
       "    }\n",
       "\n",
       "    .dataframe tbody tr th {\n",
       "        vertical-align: top;\n",
       "    }\n",
       "\n",
       "    .dataframe thead th {\n",
       "        text-align: right;\n",
       "    }\n",
       "</style>\n",
       "<table border=\"1\" class=\"dataframe\">\n",
       "  <thead>\n",
       "    <tr style=\"text-align: right;\">\n",
       "      <th></th>\n",
       "      <th></th>\n",
       "      <th>Survived</th>\n",
       "      <th>percent_m</th>\n",
       "    </tr>\n",
       "    <tr>\n",
       "      <th>Pclass</th>\n",
       "      <th>Survived</th>\n",
       "      <th></th>\n",
       "      <th></th>\n",
       "    </tr>\n",
       "  </thead>\n",
       "  <tbody>\n",
       "    <tr>\n",
       "      <th rowspan=\"2\" valign=\"top\">1</th>\n",
       "      <th>0</th>\n",
       "      <td>77</td>\n",
       "      <td>13.34</td>\n",
       "    </tr>\n",
       "    <tr>\n",
       "      <th>1</th>\n",
       "      <td>45</td>\n",
       "      <td>7.80</td>\n",
       "    </tr>\n",
       "    <tr>\n",
       "      <th rowspan=\"2\" valign=\"top\">2</th>\n",
       "      <th>0</th>\n",
       "      <td>91</td>\n",
       "      <td>15.77</td>\n",
       "    </tr>\n",
       "    <tr>\n",
       "      <th>1</th>\n",
       "      <td>17</td>\n",
       "      <td>2.95</td>\n",
       "    </tr>\n",
       "    <tr>\n",
       "      <th rowspan=\"2\" valign=\"top\">3</th>\n",
       "      <th>0</th>\n",
       "      <td>300</td>\n",
       "      <td>51.99</td>\n",
       "    </tr>\n",
       "    <tr>\n",
       "      <th>1</th>\n",
       "      <td>47</td>\n",
       "      <td>8.15</td>\n",
       "    </tr>\n",
       "  </tbody>\n",
       "</table>\n",
       "</div>"
      ],
      "text/plain": [
       "                 Survived  percent_m\n",
       "Pclass Survived                     \n",
       "1      0               77      13.34\n",
       "       1               45       7.80\n",
       "2      0               91      15.77\n",
       "       1               17       2.95\n",
       "3      0              300      51.99\n",
       "       1               47       8.15"
      ]
     },
     "execution_count": 191,
     "metadata": {},
     "output_type": "execute_result"
    }
   ],
   "source": [
    "men = train_tit[train_tit['Sex'] == 'male']\n",
    "\n",
    "men_s = men.groupby('Pclass')['Survived'].value_counts().to_frame()\n",
    "\n",
    "men_s['percent_m'] = men_s['Survived']/men_s['Survived'].sum()*100\n",
    "men_s['percent_m'] = round(men_s['percent_m'],2)\n",
    "men_s"
   ]
  },
  {
   "cell_type": "code",
   "execution_count": 193,
   "id": "9581f612-8548-4ecd-865e-ea998ac43d1a",
   "metadata": {},
   "outputs": [],
   "source": [
    "men_s.rename(columns={'Survived':'Survived_male'},inplace=True)"
   ]
  },
  {
   "cell_type": "code",
   "execution_count": 170,
   "id": "a4cbfa9e-4ce7-4cd5-9907-26e572bf16dd",
   "metadata": {},
   "outputs": [],
   "source": [
    "women_s.rename(columns={'Survived':'Survived_female'},inplace=True)"
   ]
  },
  {
   "cell_type": "markdown",
   "id": "a241b1fc-b6f7-467b-83fb-8f1f0be2b6cc",
   "metadata": {},
   "source": [
    "\n",
    "\n",
    "\n",
    "I join the two dataframe male and female."
   ]
  },
  {
   "cell_type": "code",
   "execution_count": 207,
   "id": "32e4902e-3df0-4dad-bc01-df1579c9e43c",
   "metadata": {},
   "outputs": [
    {
     "data": {
      "text/html": [
       "<div>\n",
       "<style scoped>\n",
       "    .dataframe tbody tr th:only-of-type {\n",
       "        vertical-align: middle;\n",
       "    }\n",
       "\n",
       "    .dataframe tbody tr th {\n",
       "        vertical-align: top;\n",
       "    }\n",
       "\n",
       "    .dataframe thead th {\n",
       "        text-align: right;\n",
       "    }\n",
       "</style>\n",
       "<table border=\"1\" class=\"dataframe\">\n",
       "  <thead>\n",
       "    <tr style=\"text-align: right;\">\n",
       "      <th></th>\n",
       "      <th></th>\n",
       "      <th>Survived_male</th>\n",
       "      <th>percent_m</th>\n",
       "      <th>Survived_female</th>\n",
       "      <th>percent_f</th>\n",
       "    </tr>\n",
       "    <tr>\n",
       "      <th>Pclass</th>\n",
       "      <th>Survived</th>\n",
       "      <th></th>\n",
       "      <th></th>\n",
       "      <th></th>\n",
       "      <th></th>\n",
       "    </tr>\n",
       "  </thead>\n",
       "  <tbody>\n",
       "    <tr>\n",
       "      <th rowspan=\"2\" valign=\"top\">1</th>\n",
       "      <th>0</th>\n",
       "      <td>77</td>\n",
       "      <td>13.34</td>\n",
       "      <td>3</td>\n",
       "      <td>0.96</td>\n",
       "    </tr>\n",
       "    <tr>\n",
       "      <th>1</th>\n",
       "      <td>45</td>\n",
       "      <td>7.80</td>\n",
       "      <td>91</td>\n",
       "      <td>28.98</td>\n",
       "    </tr>\n",
       "    <tr>\n",
       "      <th rowspan=\"2\" valign=\"top\">2</th>\n",
       "      <th>0</th>\n",
       "      <td>91</td>\n",
       "      <td>15.77</td>\n",
       "      <td>6</td>\n",
       "      <td>1.91</td>\n",
       "    </tr>\n",
       "    <tr>\n",
       "      <th>1</th>\n",
       "      <td>17</td>\n",
       "      <td>2.95</td>\n",
       "      <td>70</td>\n",
       "      <td>22.29</td>\n",
       "    </tr>\n",
       "    <tr>\n",
       "      <th rowspan=\"2\" valign=\"top\">3</th>\n",
       "      <th>0</th>\n",
       "      <td>300</td>\n",
       "      <td>51.99</td>\n",
       "      <td>72</td>\n",
       "      <td>22.93</td>\n",
       "    </tr>\n",
       "    <tr>\n",
       "      <th>1</th>\n",
       "      <td>47</td>\n",
       "      <td>8.15</td>\n",
       "      <td>72</td>\n",
       "      <td>22.93</td>\n",
       "    </tr>\n",
       "  </tbody>\n",
       "</table>\n",
       "</div>"
      ],
      "text/plain": [
       "                 Survived_male  percent_m  Survived_female  percent_f\n",
       "Pclass Survived                                                      \n",
       "1      0                    77      13.34                3       0.96\n",
       "       1                    45       7.80               91      28.98\n",
       "2      0                    91      15.77                6       1.91\n",
       "       1                    17       2.95               70      22.29\n",
       "3      0                   300      51.99               72      22.93\n",
       "       1                    47       8.15               72      22.93"
      ]
     },
     "execution_count": 207,
     "metadata": {},
     "output_type": "execute_result"
    }
   ],
   "source": [
    "gender_df = pd.concat([men_s[['Survived_male', 'percent_m']], women_s[['Survived_female', 'percent_f']]], axis=1)\n",
    "gender_df"
   ]
  },
  {
   "cell_type": "markdown",
   "id": "6863348f-3082-461a-96e8-5c68861335e5",
   "metadata": {},
   "source": [
    "Next I want to know the total passengers for each class."
   ]
  },
  {
   "cell_type": "code",
   "execution_count": 208,
   "id": "aeb89d78-c55a-4b9e-aa2c-596cf585e63b",
   "metadata": {},
   "outputs": [
    {
     "data": {
      "text/html": [
       "<div>\n",
       "<style scoped>\n",
       "    .dataframe tbody tr th:only-of-type {\n",
       "        vertical-align: middle;\n",
       "    }\n",
       "\n",
       "    .dataframe tbody tr th {\n",
       "        vertical-align: top;\n",
       "    }\n",
       "\n",
       "    .dataframe thead th {\n",
       "        text-align: right;\n",
       "    }\n",
       "</style>\n",
       "<table border=\"1\" class=\"dataframe\">\n",
       "  <thead>\n",
       "    <tr style=\"text-align: right;\">\n",
       "      <th></th>\n",
       "      <th>Pclass</th>\n",
       "      <th>Survived_male</th>\n",
       "      <th>percent_m</th>\n",
       "      <th>Survived_female</th>\n",
       "      <th>percent_f</th>\n",
       "    </tr>\n",
       "  </thead>\n",
       "  <tbody>\n",
       "    <tr>\n",
       "      <th>0</th>\n",
       "      <td>1</td>\n",
       "      <td>122</td>\n",
       "      <td>21.14</td>\n",
       "      <td>94</td>\n",
       "      <td>29.94</td>\n",
       "    </tr>\n",
       "    <tr>\n",
       "      <th>1</th>\n",
       "      <td>2</td>\n",
       "      <td>108</td>\n",
       "      <td>18.72</td>\n",
       "      <td>76</td>\n",
       "      <td>24.20</td>\n",
       "    </tr>\n",
       "    <tr>\n",
       "      <th>2</th>\n",
       "      <td>3</td>\n",
       "      <td>347</td>\n",
       "      <td>60.14</td>\n",
       "      <td>144</td>\n",
       "      <td>45.86</td>\n",
       "    </tr>\n",
       "  </tbody>\n",
       "</table>\n",
       "</div>"
      ],
      "text/plain": [
       "   Pclass  Survived_male  percent_m  Survived_female  percent_f\n",
       "0       1            122      21.14               94      29.94\n",
       "1       2            108      18.72               76      24.20\n",
       "2       3            347      60.14              144      45.86"
      ]
     },
     "execution_count": 208,
     "metadata": {},
     "output_type": "execute_result"
    }
   ],
   "source": [
    "class_s = gender_df.groupby('Pclass').sum().reset_index()\n",
    "class_s"
   ]
  },
  {
   "cell_type": "markdown",
   "id": "c2920719-921d-492e-a90a-94c7a125089d",
   "metadata": {},
   "source": [
    "They were 347 males passengers in third class, (60% of the whole) and 144 females passengers (45% of the whole)."
   ]
  },
  {
   "cell_type": "markdown",
   "id": "fa7b40ac-472b-4c80-96c8-3b8986c6133c",
   "metadata": {},
   "source": [
    "Then, I create a dataframe with only survivors (by class)"
   ]
  },
  {
   "cell_type": "code",
   "execution_count": 210,
   "id": "b9adccab-b92b-4bcc-b183-725b5e975806",
   "metadata": {},
   "outputs": [],
   "source": [
    "#gender_df = gender_df.reset_index()"
   ]
  },
  {
   "cell_type": "code",
   "execution_count": 238,
   "id": "5926ec5d-bfe5-43c9-a6d7-10c09e6a05a7",
   "metadata": {},
   "outputs": [
    {
     "data": {
      "text/html": [
       "<div>\n",
       "<style scoped>\n",
       "    .dataframe tbody tr th:only-of-type {\n",
       "        vertical-align: middle;\n",
       "    }\n",
       "\n",
       "    .dataframe tbody tr th {\n",
       "        vertical-align: top;\n",
       "    }\n",
       "\n",
       "    .dataframe thead th {\n",
       "        text-align: right;\n",
       "    }\n",
       "</style>\n",
       "<table border=\"1\" class=\"dataframe\">\n",
       "  <thead>\n",
       "    <tr style=\"text-align: right;\">\n",
       "      <th></th>\n",
       "      <th>index</th>\n",
       "      <th>Pclass</th>\n",
       "      <th>Survived</th>\n",
       "      <th>Survived_male</th>\n",
       "      <th>percent_m</th>\n",
       "      <th>Survived_female</th>\n",
       "      <th>percent_f</th>\n",
       "    </tr>\n",
       "  </thead>\n",
       "  <tbody>\n",
       "    <tr>\n",
       "      <th>0</th>\n",
       "      <td>1</td>\n",
       "      <td>1</td>\n",
       "      <td>1</td>\n",
       "      <td>45</td>\n",
       "      <td>7.80</td>\n",
       "      <td>91</td>\n",
       "      <td>28.98</td>\n",
       "    </tr>\n",
       "    <tr>\n",
       "      <th>1</th>\n",
       "      <td>3</td>\n",
       "      <td>2</td>\n",
       "      <td>1</td>\n",
       "      <td>17</td>\n",
       "      <td>2.95</td>\n",
       "      <td>70</td>\n",
       "      <td>22.29</td>\n",
       "    </tr>\n",
       "    <tr>\n",
       "      <th>2</th>\n",
       "      <td>5</td>\n",
       "      <td>3</td>\n",
       "      <td>1</td>\n",
       "      <td>47</td>\n",
       "      <td>8.15</td>\n",
       "      <td>72</td>\n",
       "      <td>22.93</td>\n",
       "    </tr>\n",
       "  </tbody>\n",
       "</table>\n",
       "</div>"
      ],
      "text/plain": [
       "   index  Pclass  Survived  Survived_male  percent_m  Survived_female  \\\n",
       "0      1       1         1             45       7.80               91   \n",
       "1      3       2         1             17       2.95               70   \n",
       "2      5       3         1             47       8.15               72   \n",
       "\n",
       "   percent_f  \n",
       "0      28.98  \n",
       "1      22.29  \n",
       "2      22.93  "
      ]
     },
     "execution_count": 238,
     "metadata": {},
     "output_type": "execute_result"
    }
   ],
   "source": [
    "\n",
    "survi = gender_df[gender_df['Survived'] == 1].reset_index()\n",
    "survi"
   ]
  },
  {
   "cell_type": "markdown",
   "id": "344231f3-4353-48b5-975a-4b602576f04a",
   "metadata": {},
   "source": [
    "Let's find, the proportion of survivors by class.\n",
    "\n",
    "To do this, I divide the survivors calculated in `survi` by the total passengers in each class calculated in `class_s`."
   ]
  },
  {
   "cell_type": "code",
   "execution_count": 244,
   "id": "efbea0ed-916a-4dd1-9622-fe5ad7b7ee83",
   "metadata": {},
   "outputs": [
    {
     "data": {
      "text/html": [
       "<div>\n",
       "<style scoped>\n",
       "    .dataframe tbody tr th:only-of-type {\n",
       "        vertical-align: middle;\n",
       "    }\n",
       "\n",
       "    .dataframe tbody tr th {\n",
       "        vertical-align: top;\n",
       "    }\n",
       "\n",
       "    .dataframe thead th {\n",
       "        text-align: right;\n",
       "    }\n",
       "</style>\n",
       "<table border=\"1\" class=\"dataframe\">\n",
       "  <thead>\n",
       "    <tr style=\"text-align: right;\">\n",
       "      <th></th>\n",
       "      <th>index</th>\n",
       "      <th>Pclass</th>\n",
       "      <th>Survived</th>\n",
       "      <th>Survived_male</th>\n",
       "      <th>percent_m</th>\n",
       "      <th>Survived_female</th>\n",
       "      <th>percent_f</th>\n",
       "    </tr>\n",
       "  </thead>\n",
       "  <tbody>\n",
       "    <tr>\n",
       "      <th>0</th>\n",
       "      <td>1</td>\n",
       "      <td>1</td>\n",
       "      <td>1</td>\n",
       "      <td>45</td>\n",
       "      <td>36.89</td>\n",
       "      <td>91</td>\n",
       "      <td>96.81</td>\n",
       "    </tr>\n",
       "    <tr>\n",
       "      <th>1</th>\n",
       "      <td>3</td>\n",
       "      <td>2</td>\n",
       "      <td>1</td>\n",
       "      <td>17</td>\n",
       "      <td>15.74</td>\n",
       "      <td>70</td>\n",
       "      <td>92.11</td>\n",
       "    </tr>\n",
       "    <tr>\n",
       "      <th>2</th>\n",
       "      <td>5</td>\n",
       "      <td>3</td>\n",
       "      <td>1</td>\n",
       "      <td>47</td>\n",
       "      <td>13.54</td>\n",
       "      <td>72</td>\n",
       "      <td>50.00</td>\n",
       "    </tr>\n",
       "  </tbody>\n",
       "</table>\n",
       "</div>"
      ],
      "text/plain": [
       "   index  Pclass  Survived  Survived_male  percent_m  Survived_female  \\\n",
       "0      1       1         1             45      36.89               91   \n",
       "1      3       2         1             17      15.74               70   \n",
       "2      5       3         1             47      13.54               72   \n",
       "\n",
       "   percent_f  \n",
       "0      96.81  \n",
       "1      92.11  \n",
       "2      50.00  "
      ]
     },
     "execution_count": 244,
     "metadata": {},
     "output_type": "execute_result"
    }
   ],
   "source": [
    "survi['percent_m'] = survi['Survived_male'] / class_s['Survived_male']*100\n",
    "survi['percent_m'] = round(survi['percent_m'],2)\n",
    "\n",
    "survi['percent_f'] = survi['Survived_female'] / class_s['Survived_female']*100\n",
    "survi['percent_f'] = round(survi['percent_f'],2)\n",
    "\n",
    "survi.head()"
   ]
  },
  {
   "cell_type": "code",
   "execution_count": 250,
   "id": "4ef64194-1dda-4c9f-b83c-85ec4af7e272",
   "metadata": {},
   "outputs": [
    {
     "data": {
      "image/png": "[encoded data removed]",
      "text/plain": [
       "<Figure size 640x480 with 1 Axes>"
      ]
     },
     "metadata": {},
     "output_type": "display_data"
    }
   ],
   "source": [
    "sns.barplot(survi, x='Pclass', y='percent_m')\n",
    "plt.title('Barplot Survival rate by Class for Men')\n",
    "plt.xlabel('Passenger Class')\n",
    "plt.ylabel('Survival Rate')\n",
    "plt.show()"
   ]
  },
  {
   "cell_type": "code",
   "execution_count": 251,
   "id": "9d700c10-5b52-4f07-8c41-44f6100d6770",
   "metadata": {},
   "outputs": [
    {
     "data": {
      "image/png": "[encoded data removed]",
      "text/plain": [
       "<Figure size 640x480 with 1 Axes>"
      ]
     },
     "metadata": {},
     "output_type": "display_data"
    }
   ],
   "source": [
    "sns.barplot(survi, x='Pclass', y='percent_f')\n",
    "plt.title('Barplot Survival rate by Class for Women')\n",
    "plt.xlabel('Passenger Class')\n",
    "plt.ylabel('Survival Rate')\n",
    "plt.show()"
   ]
  },
  {
   "cell_type": "markdown",
   "id": "542ed955-daa2-4f70-98a5-dd3d02449c33",
   "metadata": {},
   "source": [
    "### Insight"
   ]
  },
  {
   "cell_type": "markdown",
   "id": "6e62aaf6-db46-4e79-b8dc-433dc15d95dd",
   "metadata": {},
   "source": [
    "As observed, the survival rate of male passengers in the first class was twice as high as the other classes (37%). For female passengers, the survival rate was more balanced between the first and second classes, but twice as low for the third class. \n",
    "\n",
    "Overall, gender had a significant impact on the survival rate."
   ]
  },
  {
   "cell_type": "markdown",
   "id": "a9842523-eb48-4e97-a3cd-67802b773c30",
   "metadata": {},
   "source": [
    "## Age Analysis "
   ]
  },
  {
   "cell_type": "markdown",
   "id": "5808ac37-c485-42d8-8294-d9e31627a34e",
   "metadata": {},
   "source": [
    "The age of passengers onboard the Titanic played a significant role in their survival rate during the disaster. In this analysis, we will explore the relationship between age and survival, investigating factors such as age distribution, age demographics of survivors, and differences in survival rates between age groups. \n",
    "\n",
    "By examining these factors, we aim to gain a deeper understanding of how age influenced the outcome of the Titanic disaster, shedding light on the experiences of different age groups during this tragic event."
   ]
  },
  {
   "cell_type": "code",
   "execution_count": 26,
   "id": "61d34afc-bb2b-4204-ad2d-8b0a9e329ca8",
   "metadata": {},
   "outputs": [
    {
     "data": {
      "text/plain": [
       "array([[<Axes: title={'center': 'Age'}>]], dtype=object)"
      ]
     },
     "execution_count": 26,
     "metadata": {},
     "output_type": "execute_result"
    },
    {
     "data": {
      "image/png": "[encoded data removed]",
      "text/plain": [
       "<Figure size 640x480 with 1 Axes>"
      ]
     },
     "metadata": {},
     "output_type": "display_data"
    }
   ],
   "source": [
    "train_tit.hist(column='Age')"
   ]
  },
  {
   "cell_type": "code",
   "execution_count": 255,
   "id": "381ea3d6-3dc2-4587-bac0-073b69ab65a9",
   "metadata": {},
   "outputs": [
    {
     "data": {
      "text/html": [
       "<div>\n",
       "<style scoped>\n",
       "    .dataframe tbody tr th:only-of-type {\n",
       "        vertical-align: middle;\n",
       "    }\n",
       "\n",
       "    .dataframe tbody tr th {\n",
       "        vertical-align: top;\n",
       "    }\n",
       "\n",
       "    .dataframe thead th {\n",
       "        text-align: right;\n",
       "    }\n",
       "</style>\n",
       "<table border=\"1\" class=\"dataframe\">\n",
       "  <thead>\n",
       "    <tr style=\"text-align: right;\">\n",
       "      <th></th>\n",
       "      <th>Age</th>\n",
       "      <th>Survived</th>\n",
       "    </tr>\n",
       "  </thead>\n",
       "  <tbody>\n",
       "    <tr>\n",
       "      <th>Age</th>\n",
       "      <td>1.000000</td>\n",
       "      <td>-0.077221</td>\n",
       "    </tr>\n",
       "    <tr>\n",
       "      <th>Survived</th>\n",
       "      <td>-0.077221</td>\n",
       "      <td>1.000000</td>\n",
       "    </tr>\n",
       "  </tbody>\n",
       "</table>\n",
       "</div>"
      ],
      "text/plain": [
       "               Age  Survived\n",
       "Age       1.000000 -0.077221\n",
       "Survived -0.077221  1.000000"
      ]
     },
     "execution_count": 255,
     "metadata": {},
     "output_type": "execute_result"
    },
    {
     "data": {
      "image/png": "[encoded data removed]",
      "text/plain": [
       "<Figure size 640x480 with 1 Axes>"
      ]
     },
     "metadata": {},
     "output_type": "display_data"
    }
   ],
   "source": [
    "sns.regplot(train_tit, x='Age', y='Survived')\n",
    "\n",
    "train_tit[['Age','Survived']].corr()"
   ]
  },
  {
   "cell_type": "code",
   "execution_count": 259,
   "id": "4341d20c-5219-457f-b6b0-8645bacb0944",
   "metadata": {},
   "outputs": [
    {
     "data": {
      "text/html": [
       "<div>\n",
       "<style scoped>\n",
       "    .dataframe tbody tr th:only-of-type {\n",
       "        vertical-align: middle;\n",
       "    }\n",
       "\n",
       "    .dataframe tbody tr th {\n",
       "        vertical-align: top;\n",
       "    }\n",
       "\n",
       "    .dataframe thead th {\n",
       "        text-align: right;\n",
       "    }\n",
       "</style>\n",
       "<table border=\"1\" class=\"dataframe\">\n",
       "  <thead>\n",
       "    <tr style=\"text-align: right;\">\n",
       "      <th></th>\n",
       "      <th>Age</th>\n",
       "      <th>Fare</th>\n",
       "    </tr>\n",
       "  </thead>\n",
       "  <tbody>\n",
       "    <tr>\n",
       "      <th>Age</th>\n",
       "      <td>1.000000</td>\n",
       "      <td>0.096067</td>\n",
       "    </tr>\n",
       "    <tr>\n",
       "      <th>Fare</th>\n",
       "      <td>0.096067</td>\n",
       "      <td>1.000000</td>\n",
       "    </tr>\n",
       "  </tbody>\n",
       "</table>\n",
       "</div>"
      ],
      "text/plain": [
       "           Age      Fare\n",
       "Age   1.000000  0.096067\n",
       "Fare  0.096067  1.000000"
      ]
     },
     "execution_count": 259,
     "metadata": {},
     "output_type": "execute_result"
    },
    {
     "data": {
      "image/png": "[encoded data removed]",
      "text/plain": [
       "<Figure size 640x480 with 1 Axes>"
      ]
     },
     "metadata": {},
     "output_type": "display_data"
    }
   ],
   "source": [
    "sns.regplot(train_tit, x='Age', y='Fare')\n",
    "train_tit[['Age','Fare']].corr()"
   ]
  },
  {
   "cell_type": "code",
   "execution_count": null,
   "id": "1ad365ca-12f4-4780-83ce-6018b385dab7",
   "metadata": {},
   "outputs": [],
   "source": []
  },
  {
   "cell_type": "code",
   "execution_count": 260,
   "id": "c672fe3c-d92a-48f5-9af4-26cf97ab3982",
   "metadata": {},
   "outputs": [
    {
     "data": {
      "text/html": [
       "<div>\n",
       "<style scoped>\n",
       "    .dataframe tbody tr th:only-of-type {\n",
       "        vertical-align: middle;\n",
       "    }\n",
       "\n",
       "    .dataframe tbody tr th {\n",
       "        vertical-align: top;\n",
       "    }\n",
       "\n",
       "    .dataframe thead th {\n",
       "        text-align: right;\n",
       "    }\n",
       "</style>\n",
       "<table border=\"1\" class=\"dataframe\">\n",
       "  <thead>\n",
       "    <tr style=\"text-align: right;\">\n",
       "      <th></th>\n",
       "      <th>Age</th>\n",
       "      <th>Pclass</th>\n",
       "    </tr>\n",
       "  </thead>\n",
       "  <tbody>\n",
       "    <tr>\n",
       "      <th>Age</th>\n",
       "      <td>1.000000</td>\n",
       "      <td>-0.369226</td>\n",
       "    </tr>\n",
       "    <tr>\n",
       "      <th>Pclass</th>\n",
       "      <td>-0.369226</td>\n",
       "      <td>1.000000</td>\n",
       "    </tr>\n",
       "  </tbody>\n",
       "</table>\n",
       "</div>"
      ],
      "text/plain": [
       "             Age    Pclass\n",
       "Age     1.000000 -0.369226\n",
       "Pclass -0.369226  1.000000"
      ]
     },
     "execution_count": 260,
     "metadata": {},
     "output_type": "execute_result"
    },
    {
     "data": {
      "image/png": "[encoded data removed]",
      "text/plain": [
       "<Figure size 640x480 with 1 Axes>"
      ]
     },
     "metadata": {},
     "output_type": "display_data"
    }
   ],
   "source": [
    "sns.regplot(train_tit, x='Age', y='Pclass')\n",
    "train_tit[['Age','Pclass']].corr()"
   ]
  },
  {
   "cell_type": "markdown",
   "id": "35c2a59b-a595-40cc-8f51-eb1204334418",
   "metadata": {},
   "source": [
    "There is a moderate relationship between `Age` and `Class`. The older a passenger was, the better was the class."
   ]
  },
  {
   "cell_type": "code",
   "execution_count": 11,
   "id": "d3239e12-d58c-46c5-bbbb-8e23adde1f7c",
   "metadata": {},
   "outputs": [
    {
     "data": {
      "image/png": "[encoded data removed]",
      "text/plain": [
       "<Figure size 572.111x500 with 1 Axes>"
      ]
     },
     "metadata": {},
     "output_type": "display_data"
    }
   ],
   "source": [
    "sns.catplot(train_tit, x='Pclass', y='Age',hue='Survived')\n",
    "plt.title('Relationship between Age and Survival by Class')\n",
    "plt.xlabel('Passengers Class')\n",
    "plt.show()\n"
   ]
  },
  {
   "cell_type": "markdown",
   "id": "4adbbd33-bbfc-429a-b96f-84847c452b24",
   "metadata": {},
   "source": [
    "Passengers who were children under the age of 10 and traveling in the 2nd and 3rd class had a higher survival rate compared to older passengers. Additionally, the 1st class had fewer children on board."
   ]
  },
  {
   "cell_type": "code",
   "execution_count": 16,
   "id": "1cd57897-e11d-40fe-9a47-377e586111f6",
   "metadata": {},
   "outputs": [],
   "source": [
    "def categorize_age(age):\n",
    "    if age <= 12:\n",
    "        return \"children\"\n",
    "    elif age <= 19:\n",
    "        return \"teenager\"\n",
    "    elif age <= 59:\n",
    "        return \"adult\"\n",
    "    else:\n",
    "        return \"senior\"\n",
    "\n",
    "train_tit['Age_Cat'] = train_tit['Age'].apply(categorize_age)"
   ]
  },
  {
   "cell_type": "code",
   "execution_count": 17,
   "id": "292abfc8-1942-4ccc-ba42-6e0a898ebd2c",
   "metadata": {},
   "outputs": [
    {
     "data": {
      "image/png": "[encoded data removed]",
      "text/plain": [
       "<Figure size 640x480 with 1 Axes>"
      ]
     },
     "metadata": {},
     "output_type": "display_data"
    }
   ],
   "source": [
    "sns.barplot(train_tit, x='Age_Cat', y='Survived')\n",
    "plt.title('Survival Rate by Age Category')\n",
    "plt.ylabel('Survival Rate')\n",
    "plt.show()\n",
    "          "
   ]
  },
  {
   "cell_type": "markdown",
   "id": "d0948653-7610-4462-a14e-8d105e0a733d",
   "metadata": {},
   "source": [
    "The survival rate of seniors (over 60 years old) was lower (0.10) compared to that of adults and teenagers."
   ]
  },
  {
   "cell_type": "markdown",
   "id": "e232afc2-b755-4c26-b98c-7f32297f5691",
   "metadata": {},
   "source": [
    "### Insight"
   ]
  },
  {
   "cell_type": "markdown",
   "id": "46e1c816-f050-4f83-99e7-71f9f71434f0",
   "metadata": {},
   "source": [
    "Age had a significant impact on the survival rate, particularly for passengers in the children and senior categories."
   ]
  },
  {
   "cell_type": "markdown",
   "id": "875feecd-6096-4f87-ba5f-a221f72321e1",
   "metadata": {},
   "source": [
    "In order to create our future model, we replace empty values by the average age."
   ]
  },
  {
   "cell_type": "code",
   "execution_count": 18,
   "id": "a319dda4-a77a-439c-8519-299d70c95faa",
   "metadata": {},
   "outputs": [
    {
     "data": {
      "text/plain": [
       "30.0"
      ]
     },
     "execution_count": 18,
     "metadata": {},
     "output_type": "execute_result"
    }
   ],
   "source": [
    "avg_value = train_tit['Age'].mean().round()\n",
    "avg_value"
   ]
  },
  {
   "cell_type": "code",
   "execution_count": 19,
   "id": "b705d380-0dfd-4b74-8181-eb947f7e17a0",
   "metadata": {},
   "outputs": [],
   "source": [
    "train_tit['Age'].replace(np.nan, avg_value, inplace=True)"
   ]
  },
  {
   "cell_type": "code",
   "execution_count": 20,
   "id": "0358500f-8976-4713-a49e-19eb0518f18d",
   "metadata": {},
   "outputs": [
    {
     "data": {
      "text/plain": [
       "0"
      ]
     },
     "execution_count": 20,
     "metadata": {},
     "output_type": "execute_result"
    }
   ],
   "source": [
    "train_tit['Age'].isnull().sum()"
   ]
  },
  {
   "cell_type": "markdown",
   "id": "e42565e7-7eda-4cab-94c9-3d6301bfe8cf",
   "metadata": {},
   "source": [
    "## Sibling Analysis"
   ]
  },
  {
   "cell_type": "markdown",
   "id": "74c441f8-a125-4d79-b65e-201e7a7df7f2",
   "metadata": {},
   "source": [
    "In the following analysis, we will investigate whether parents with their children or spouses survived or perished together. But also examing if passengers with children had a better survival rate."
   ]
  },
  {
   "cell_type": "code",
   "execution_count": 21,
   "id": "7e2fe492-a05c-44c3-8f60-65f9fb85c9b3",
   "metadata": {},
   "outputs": [
    {
     "data": {
      "text/plain": [
       "Index(['PassengerId', 'Survived', 'Pclass', 'Name', 'Sex', 'Age', 'SibSp',\n",
       "       'Parch', 'Ticket', 'Fare', 'Embarked', 'Age_Cat'],\n",
       "      dtype='object')"
      ]
     },
     "execution_count": 21,
     "metadata": {},
     "output_type": "execute_result"
    }
   ],
   "source": [
    "train_tit.columns"
   ]
  },
  {
   "cell_type": "code",
   "execution_count": 22,
   "id": "3465cfcb-aa3e-4bfc-badb-1a451a962b14",
   "metadata": {},
   "outputs": [
    {
     "data": {
      "text/html": [
       "<div>\n",
       "<style scoped>\n",
       "    .dataframe tbody tr th:only-of-type {\n",
       "        vertical-align: middle;\n",
       "    }\n",
       "\n",
       "    .dataframe tbody tr th {\n",
       "        vertical-align: top;\n",
       "    }\n",
       "\n",
       "    .dataframe thead th {\n",
       "        text-align: right;\n",
       "    }\n",
       "</style>\n",
       "<table border=\"1\" class=\"dataframe\">\n",
       "  <thead>\n",
       "    <tr style=\"text-align: right;\">\n",
       "      <th></th>\n",
       "      <th>Pclass</th>\n",
       "      <th>Name</th>\n",
       "      <th>Sex</th>\n",
       "      <th>Age</th>\n",
       "      <th>SibSp</th>\n",
       "      <th>Parch</th>\n",
       "      <th>Survived</th>\n",
       "      <th>Age_Cat</th>\n",
       "      <th>f_name</th>\n",
       "    </tr>\n",
       "  </thead>\n",
       "  <tbody>\n",
       "    <tr>\n",
       "      <th>0</th>\n",
       "      <td>3</td>\n",
       "      <td>Braund, Mr. Owen Harris</td>\n",
       "      <td>male</td>\n",
       "      <td>22.0</td>\n",
       "      <td>1</td>\n",
       "      <td>0</td>\n",
       "      <td>0</td>\n",
       "      <td>adult</td>\n",
       "      <td>Braund</td>\n",
       "    </tr>\n",
       "    <tr>\n",
       "      <th>1</th>\n",
       "      <td>1</td>\n",
       "      <td>Cumings, Mrs. John Bradley (Florence Briggs Th...</td>\n",
       "      <td>female</td>\n",
       "      <td>38.0</td>\n",
       "      <td>1</td>\n",
       "      <td>0</td>\n",
       "      <td>1</td>\n",
       "      <td>adult</td>\n",
       "      <td>Cumings</td>\n",
       "    </tr>\n",
       "    <tr>\n",
       "      <th>2</th>\n",
       "      <td>3</td>\n",
       "      <td>Heikkinen, Miss. Laina</td>\n",
       "      <td>female</td>\n",
       "      <td>26.0</td>\n",
       "      <td>0</td>\n",
       "      <td>0</td>\n",
       "      <td>1</td>\n",
       "      <td>adult</td>\n",
       "      <td>Heikkinen</td>\n",
       "    </tr>\n",
       "    <tr>\n",
       "      <th>3</th>\n",
       "      <td>1</td>\n",
       "      <td>Futrelle, Mrs. Jacques Heath (Lily May Peel)</td>\n",
       "      <td>female</td>\n",
       "      <td>35.0</td>\n",
       "      <td>1</td>\n",
       "      <td>0</td>\n",
       "      <td>1</td>\n",
       "      <td>adult</td>\n",
       "      <td>Futrelle</td>\n",
       "    </tr>\n",
       "    <tr>\n",
       "      <th>4</th>\n",
       "      <td>3</td>\n",
       "      <td>Allen, Mr. William Henry</td>\n",
       "      <td>male</td>\n",
       "      <td>35.0</td>\n",
       "      <td>0</td>\n",
       "      <td>0</td>\n",
       "      <td>0</td>\n",
       "      <td>adult</td>\n",
       "      <td>Allen</td>\n",
       "    </tr>\n",
       "  </tbody>\n",
       "</table>\n",
       "</div>"
      ],
      "text/plain": [
       "   Pclass                                               Name     Sex   Age  \\\n",
       "0       3                            Braund, Mr. Owen Harris    male  22.0   \n",
       "1       1  Cumings, Mrs. John Bradley (Florence Briggs Th...  female  38.0   \n",
       "2       3                             Heikkinen, Miss. Laina  female  26.0   \n",
       "3       1       Futrelle, Mrs. Jacques Heath (Lily May Peel)  female  35.0   \n",
       "4       3                           Allen, Mr. William Henry    male  35.0   \n",
       "\n",
       "   SibSp  Parch  Survived Age_Cat     f_name  \n",
       "0      1      0         0   adult     Braund  \n",
       "1      1      0         1   adult    Cumings  \n",
       "2      0      0         1   adult  Heikkinen  \n",
       "3      1      0         1   adult   Futrelle  \n",
       "4      0      0         0   adult      Allen  "
      ]
     },
     "execution_count": 22,
     "metadata": {},
     "output_type": "execute_result"
    }
   ],
   "source": [
    "names = []\n",
    "\n",
    "for name in train_tit['Name'] :\n",
    "    name = name.split(\",\")[0]\n",
    "    names.append(name)\n",
    "    \n",
    "    \n",
    "sib_df = train_tit.loc[:, ['Pclass', 'Name', 'Sex', 'Age', 'SibSp', 'Parch', 'Survived','Age_Cat']]\n",
    "sib_df['f_name'] = names\n",
    "\n",
    "sib_df.head()\n",
    "\n"
   ]
  },
  {
   "cell_type": "markdown",
   "id": "f9eab006-e8d9-4975-a3df-ea03912cd088",
   "metadata": {},
   "source": [
    "Given that children had a much higher chance of survival, we excluded them from this analysis to avoid bias. \n",
    "However, parents were included in the analysis."
   ]
  },
  {
   "cell_type": "code",
   "execution_count": 28,
   "id": "efc8b9af-7d13-4e6f-be34-5e4fcc24222b",
   "metadata": {},
   "outputs": [],
   "source": [
    "sib_sib = sib_df[(sib_df['SibSp'] == 1) & (sib_df['Parch'] == 0) & (sib_df['Age_Cat'] != 'children')]\n",
    "sib_par = sib_df[(sib_df['Parch'] == 1) & (sib_df['Age_Cat'] != 'children')]"
   ]
  },
  {
   "cell_type": "code",
   "execution_count": 29,
   "id": "d7a82b61-0c4f-4e37-9024-65636d2a2d06",
   "metadata": {},
   "outputs": [
    {
     "name": "stdout",
     "output_type": "stream",
     "text": [
      "Sibling Survival Rate 0.52\n",
      "Parents Survival Rate 0.51\n"
     ]
    }
   ],
   "source": [
    "print('Sibling Survival Rate',round(sib_sib['Survived'].mean(),2))\n",
    "print('Parents Survival Rate',round(sib_par['Survived'].mean(),2))"
   ]
  },
  {
   "cell_type": "code",
   "execution_count": 30,
   "id": "70b7ad01-b5f2-406f-b3b1-42f7452494e2",
   "metadata": {},
   "outputs": [],
   "source": [
    "no_sib = sib_df[(sib_df['SibSp'] == 0) & (sib_df['Parch'] == 0)]\n"
   ]
  },
  {
   "cell_type": "code",
   "execution_count": 31,
   "id": "730c0def-710c-4da2-bdea-3f648a2014a9",
   "metadata": {},
   "outputs": [
    {
     "name": "stdout",
     "output_type": "stream",
     "text": [
      "No Sibling or Children Survival Rate 0.3\n"
     ]
    }
   ],
   "source": [
    "print('No Sibling or Children Survival Rate',round(no_sib['Survived'].mean(),2))"
   ]
  },
  {
   "cell_type": "markdown",
   "id": "da11d919-fb08-41e2-a2c7-87cbe91a9334",
   "metadata": {},
   "source": [
    "### Insight "
   ]
  },
  {
   "cell_type": "markdown",
   "id": "435a895f-b03b-4e78-a4a2-58c9852b1cf6",
   "metadata": {},
   "source": [
    "Our analysis suggests that passengers who were accompanied by their children or spouse were more likely to survive than those who traveled alone.\n",
    "\n",
    "However, parents did not have a significantly higher chance of survival compared than passengers without children."
   ]
  },
  {
   "cell_type": "markdown",
   "id": "35199c3d-f0b5-4500-bf0c-64533147347b",
   "metadata": {},
   "source": [
    "## Family size"
   ]
  },
  {
   "cell_type": "code",
   "execution_count": 70,
   "id": "0a22e6aa-d465-42c1-bb86-9ac9a49a0b8e",
   "metadata": {},
   "outputs": [],
   "source": [
    "fam_count = sib_df.groupby('f_name').size().to_frame().reset_index()"
   ]
  },
  {
   "cell_type": "code",
   "execution_count": 50,
   "id": "72a241e8-b4dc-4973-b877-70ec85b77103",
   "metadata": {},
   "outputs": [
    {
     "data": {
      "text/html": [
       "<div>\n",
       "<style scoped>\n",
       "    .dataframe tbody tr th:only-of-type {\n",
       "        vertical-align: middle;\n",
       "    }\n",
       "\n",
       "    .dataframe tbody tr th {\n",
       "        vertical-align: top;\n",
       "    }\n",
       "\n",
       "    .dataframe thead th {\n",
       "        text-align: right;\n",
       "    }\n",
       "</style>\n",
       "<table border=\"1\" class=\"dataframe\">\n",
       "  <thead>\n",
       "    <tr style=\"text-align: right;\">\n",
       "      <th></th>\n",
       "      <th>f_name</th>\n",
       "      <th>Survived</th>\n",
       "    </tr>\n",
       "  </thead>\n",
       "  <tbody>\n",
       "    <tr>\n",
       "      <th>0</th>\n",
       "      <td>Abbing</td>\n",
       "      <td>0.0</td>\n",
       "    </tr>\n",
       "    <tr>\n",
       "      <th>1</th>\n",
       "      <td>Abbott</td>\n",
       "      <td>0.5</td>\n",
       "    </tr>\n",
       "    <tr>\n",
       "      <th>2</th>\n",
       "      <td>Abelson</td>\n",
       "      <td>0.5</td>\n",
       "    </tr>\n",
       "    <tr>\n",
       "      <th>3</th>\n",
       "      <td>Adahl</td>\n",
       "      <td>0.0</td>\n",
       "    </tr>\n",
       "    <tr>\n",
       "      <th>4</th>\n",
       "      <td>Adams</td>\n",
       "      <td>0.0</td>\n",
       "    </tr>\n",
       "  </tbody>\n",
       "</table>\n",
       "</div>"
      ],
      "text/plain": [
       "    f_name  Survived\n",
       "0   Abbing       0.0\n",
       "1   Abbott       0.5\n",
       "2  Abelson       0.5\n",
       "3    Adahl       0.0\n",
       "4    Adams       0.0"
      ]
     },
     "execution_count": 50,
     "metadata": {},
     "output_type": "execute_result"
    }
   ],
   "source": [
    "fam_sur = sib_df.groupby('f_name')['Survived'].mean().reset_index()\n",
    "fam_sur.head()"
   ]
  },
  {
   "cell_type": "code",
   "execution_count": 66,
   "id": "18a48d97-70e5-4916-af05-683c87209a2e",
   "metadata": {},
   "outputs": [
    {
     "data": {
      "text/html": [
       "<div>\n",
       "<style scoped>\n",
       "    .dataframe tbody tr th:only-of-type {\n",
       "        vertical-align: middle;\n",
       "    }\n",
       "\n",
       "    .dataframe tbody tr th {\n",
       "        vertical-align: top;\n",
       "    }\n",
       "\n",
       "    .dataframe thead th {\n",
       "        text-align: right;\n",
       "    }\n",
       "</style>\n",
       "<table border=\"1\" class=\"dataframe\">\n",
       "  <thead>\n",
       "    <tr style=\"text-align: right;\">\n",
       "      <th></th>\n",
       "      <th>f_name</th>\n",
       "      <th>Survived</th>\n",
       "      <th>count</th>\n",
       "    </tr>\n",
       "  </thead>\n",
       "  <tbody>\n",
       "    <tr>\n",
       "      <th>0</th>\n",
       "      <td>Abbing</td>\n",
       "      <td>0.0</td>\n",
       "      <td>1</td>\n",
       "    </tr>\n",
       "    <tr>\n",
       "      <th>1</th>\n",
       "      <td>Abbott</td>\n",
       "      <td>0.5</td>\n",
       "      <td>2</td>\n",
       "    </tr>\n",
       "    <tr>\n",
       "      <th>2</th>\n",
       "      <td>Abelson</td>\n",
       "      <td>0.5</td>\n",
       "      <td>2</td>\n",
       "    </tr>\n",
       "    <tr>\n",
       "      <th>3</th>\n",
       "      <td>Adahl</td>\n",
       "      <td>0.0</td>\n",
       "      <td>1</td>\n",
       "    </tr>\n",
       "    <tr>\n",
       "      <th>4</th>\n",
       "      <td>Adams</td>\n",
       "      <td>0.0</td>\n",
       "      <td>1</td>\n",
       "    </tr>\n",
       "  </tbody>\n",
       "</table>\n",
       "</div>"
      ],
      "text/plain": [
       "    f_name  Survived  count\n",
       "0   Abbing       0.0      1\n",
       "1   Abbott       0.5      2\n",
       "2  Abelson       0.5      2\n",
       "3    Adahl       0.0      1\n",
       "4    Adams       0.0      1"
      ]
     },
     "execution_count": 66,
     "metadata": {},
     "output_type": "execute_result"
    }
   ],
   "source": [
    "fam_sur['count'] = fam_count[0]\n",
    "fam_sur.head()"
   ]
  },
  {
   "cell_type": "code",
   "execution_count": 72,
   "id": "3a3b8fc7-e8a4-4c1e-b21f-0e7cd53a92db",
   "metadata": {},
   "outputs": [
    {
     "data": {
      "text/plain": [
       "(667, 3)"
      ]
     },
     "execution_count": 72,
     "metadata": {},
     "output_type": "execute_result"
    },
    {
     "data": {
      "image/png": "[encoded data removed]",
      "text/plain": [
       "<Figure size 640x480 with 1 Axes>"
      ]
     },
     "metadata": {},
     "output_type": "display_data"
    }
   ],
   "source": [
    "fam_sur.hist(column='count')\n",
    "fam_sur.shape"
   ]
  },
  {
   "cell_type": "markdown",
   "id": "def82b46-5f9f-4f04-954a-6cfda6e3ca0d",
   "metadata": {},
   "source": [
    "It seems we have a problem here. I expected to see mostly family size of 2 but there is a stunning majority of \"alone passenger\". What does it means ?\n",
    "\n",
    "I think grouping family by last name is not an appropriate method here to determine family, but before close the case, let's investigate.\n",
    "\n"
   ]
  },
  {
   "cell_type": "markdown",
   "id": "a5252dc3-2f62-4d33-8e01-8cf2ccbff299",
   "metadata": {},
   "source": [
    "I know that \"Fortune, Mr. Charles Alexander\" had 3 `Sibsp` and 2 `Parch`. Let's see the count value for the Fortune family."
   ]
  },
  {
   "cell_type": "code",
   "execution_count": 83,
   "id": "787a0212-4d2d-4d7e-afbc-5d54aa2d4eb2",
   "metadata": {},
   "outputs": [
    {
     "data": {
      "text/plain": [
       "189    4\n",
       "Name: count, dtype: int64"
      ]
     },
     "execution_count": 83,
     "metadata": {},
     "output_type": "execute_result"
    }
   ],
   "source": [
    "fam_sur.loc[fam_sur['f_name'] == 'Fortune', 'count']"
   ]
  },
  {
   "cell_type": "markdown",
   "id": "193676c2-9d8b-438a-960f-d8392e7bc0b9",
   "metadata": {},
   "source": [
    "Someone is missing, the value should be 5 but it's ok.\n",
    "\n",
    "Another method to see if it works it's to use our previous dataframe `No_sib` who contains passengers with a 0 `Sibsp` and 0 `Parch`"
   ]
  },
  {
   "cell_type": "code",
   "execution_count": 86,
   "id": "54c0e76d-ace3-41c7-9e3e-64a7e92e420d",
   "metadata": {},
   "outputs": [
    {
     "name": "stdout",
     "output_type": "stream",
     "text": [
      "Number of passengers without family onboard :  537\n"
     ]
    }
   ],
   "source": [
    "print('Number of passengers without family onboard : ',no_sib.shape[0])"
   ]
  },
  {
   "cell_type": "markdown",
   "id": "32a6f591-3a08-451b-b701-e6b3a719ee58",
   "metadata": {},
   "source": [
    "It matches with our histogram ! It means that's not the method who doesn’t work, but the nature of the dataset to included alone passengers."
   ]
  },
  {
   "cell_type": "code",
   "execution_count": 96,
   "id": "53d2b172-8215-4101-b32d-faac3d033194",
   "metadata": {},
   "outputs": [
    {
     "name": "stdout",
     "output_type": "stream",
     "text": [
      "0.800599700149925\n",
      "0.12443778110944528\n",
      "0.041979010494752625\n",
      "0.020989505247376312\n",
      "0.0074962518740629685\n",
      "0.0014992503748125937\n",
      "0.0014992503748125937\n",
      "0.0014992503748125937\n"
     ]
    }
   ],
   "source": [
    "size = fam_sur['count'].value_counts().to_frame()\n",
    "proportion = []\n",
    "\n",
    "for i in size['count']:\n",
    "    x = i/fam_sur.shape[0]\n",
    "    proportion.append(x)\n",
    "    print(x)\n"
   ]
  },
  {
   "cell_type": "code",
   "execution_count": 126,
   "id": "54b28ee8-8b4e-49c8-8839-ece02c8c47f4",
   "metadata": {},
   "outputs": [
    {
     "data": {
      "text/html": [
       "<div>\n",
       "<style scoped>\n",
       "    .dataframe tbody tr th:only-of-type {\n",
       "        vertical-align: middle;\n",
       "    }\n",
       "\n",
       "    .dataframe tbody tr th {\n",
       "        vertical-align: top;\n",
       "    }\n",
       "\n",
       "    .dataframe thead th {\n",
       "        text-align: right;\n",
       "    }\n",
       "</style>\n",
       "<table border=\"1\" class=\"dataframe\">\n",
       "  <thead>\n",
       "    <tr style=\"text-align: right;\">\n",
       "      <th></th>\n",
       "      <th>index</th>\n",
       "      <th>count</th>\n",
       "      <th>percent</th>\n",
       "    </tr>\n",
       "  </thead>\n",
       "  <tbody>\n",
       "    <tr>\n",
       "      <th>0</th>\n",
       "      <td>1</td>\n",
       "      <td>534</td>\n",
       "      <td>80.0</td>\n",
       "    </tr>\n",
       "    <tr>\n",
       "      <th>1</th>\n",
       "      <td>2</td>\n",
       "      <td>83</td>\n",
       "      <td>12.0</td>\n",
       "    </tr>\n",
       "    <tr>\n",
       "      <th>2</th>\n",
       "      <td>3</td>\n",
       "      <td>28</td>\n",
       "      <td>4.0</td>\n",
       "    </tr>\n",
       "    <tr>\n",
       "      <th>3</th>\n",
       "      <td>4</td>\n",
       "      <td>14</td>\n",
       "      <td>2.0</td>\n",
       "    </tr>\n",
       "    <tr>\n",
       "      <th>4</th>\n",
       "      <td>6</td>\n",
       "      <td>5</td>\n",
       "      <td>1.0</td>\n",
       "    </tr>\n",
       "    <tr>\n",
       "      <th>5</th>\n",
       "      <td>9</td>\n",
       "      <td>1</td>\n",
       "      <td>0.0</td>\n",
       "    </tr>\n",
       "    <tr>\n",
       "      <th>6</th>\n",
       "      <td>5</td>\n",
       "      <td>1</td>\n",
       "      <td>0.0</td>\n",
       "    </tr>\n",
       "    <tr>\n",
       "      <th>7</th>\n",
       "      <td>7</td>\n",
       "      <td>1</td>\n",
       "      <td>0.0</td>\n",
       "    </tr>\n",
       "  </tbody>\n",
       "</table>\n",
       "</div>"
      ],
      "text/plain": [
       "   index  count  percent\n",
       "0      1    534     80.0\n",
       "1      2     83     12.0\n",
       "2      3     28      4.0\n",
       "3      4     14      2.0\n",
       "4      6      5      1.0\n",
       "5      9      1      0.0\n",
       "6      5      1      0.0\n",
       "7      7      1      0.0"
      ]
     },
     "execution_count": 126,
     "metadata": {},
     "output_type": "execute_result"
    }
   ],
   "source": [
    "size['percent'] = proportion\n",
    "size['percent'] = size['percent'].round(2)*100\n",
    "\n",
    "#size = size.reset_index()\n",
    "#size.drop('level_0', axis=1, inplace=True)\n",
    "size"
   ]
  },
  {
   "cell_type": "code",
   "execution_count": 116,
   "id": "56234413-2be5-4704-8a6f-6dfb117761c8",
   "metadata": {},
   "outputs": [
    {
     "data": {
      "image/png": "[encoded data removed]",
      "text/plain": [
       "<Figure size 640x480 with 1 Axes>"
      ]
     },
     "metadata": {},
     "output_type": "display_data"
    }
   ],
   "source": [
    "sns.barplot(size, x='index', y='percent')\n",
    "plt.title('Family size on the Titanic')\n",
    "plt.xlabel('Family size')\n",
    "plt.show()"
   ]
  },
  {
   "cell_type": "code",
   "execution_count": 117,
   "id": "ef0fc236-2a54-46f6-b2f7-149ea96e9824",
   "metadata": {},
   "outputs": [
    {
     "data": {
      "text/plain": [
       "<Axes: xlabel='count', ylabel='Survived'>"
      ]
     },
     "execution_count": 117,
     "metadata": {},
     "output_type": "execute_result"
    },
    {
     "data": {
      "image/png": "[encoded data removed]",
      "text/plain": [
       "<Figure size 640x480 with 1 Axes>"
      ]
     },
     "metadata": {},
     "output_type": "display_data"
    }
   ],
   "source": [
    "sns.barplot(fam_sur, x='count', y='Survived')"
   ]
  },
  {
   "cell_type": "markdown",
   "id": "9cc35d8c-3e05-4335-b785-188160324c56",
   "metadata": {},
   "source": [
    "### Insight"
   ]
  },
  {
   "cell_type": "markdown",
   "id": "fce505ff-4f95-492f-8d12-d42c49c706ea",
   "metadata": {},
   "source": [
    "Upon analysis of the Titanic dataset, we observed that 80% of the passengers traveled alone. \n",
    "\n",
    "Further analysis on the influence of family size revealed that passengers with families of size 2 and 4 had a higher survival rate compared to other family sizes. \n",
    "\n",
    "However, due to the relatively small sample sizes for these groups (excluding the alone passengers), it is difficult to make definitive conclusions.\n",
    "\n"
   ]
  },
  {
   "cell_type": "markdown",
   "id": "785e98a8-e54f-4d2b-92c8-a265289c75dd",
   "metadata": {},
   "source": [
    "## Ports & Embarkation"
   ]
  },
  {
   "cell_type": "markdown",
   "id": "96053065-adac-44ab-aedc-f294819a6b5e",
   "metadata": {},
   "source": [
    "The Titanic had three primary ports of embarkation for its passengers: Cherbourg, Queenstown, and Southampton. \n",
    "\n",
    "The location of embarkation may have played a role in the survival rate of passengers during the disaster, as different embarkation locations may have different demographics and socioeconomic statuses. \n",
    "\n",
    "In this analysis, we will explore the relationship between embarkation location and survival rate, investigating factors such as passenger demographics, ticket class, and other variables that may have influenced the likelihood of survival. \n",
    "\n",
    "By examining these factors, we aim to gain a deeper understanding of how embarkation location may have impacted the outcome of the Titanic disaster, shedding light on the experiences of passengers from different parts of the world who embarked on the ill-fated voyage."
   ]
  },
  {
   "cell_type": "markdown",
   "id": "e9bdf86d-927c-4b64-b078-7e48cd347cc0",
   "metadata": {},
   "source": [
    "Port of Embarkation\tC = Cherbourg, Q = Queenstown, S = Southampton"
   ]
  },
  {
   "cell_type": "code",
   "execution_count": 114,
   "id": "029042ab-a4ac-4406-93d3-e91ba420d9b5",
   "metadata": {},
   "outputs": [
    {
     "data": {
      "text/plain": [
       "S    644\n",
       "C    168\n",
       "Q     77\n",
       "Name: Embarked, dtype: int64"
      ]
     },
     "execution_count": 114,
     "metadata": {},
     "output_type": "execute_result"
    }
   ],
   "source": [
    "train_tit['Embarked'].value_counts()"
   ]
  },
  {
   "cell_type": "code",
   "execution_count": 128,
   "id": "9cbfc3cb-5ecc-4287-8931-37898dba56f1",
   "metadata": {},
   "outputs": [],
   "source": [
    "\n",
    "embarked = train_tit.groupby('Embarked')['Survived'].mean().reset_index()"
   ]
  },
  {
   "cell_type": "code",
   "execution_count": 132,
   "id": "b9d2e311-eefd-47db-9f39-5825d8353c24",
   "metadata": {},
   "outputs": [
    {
     "data": {
      "image/png": "[encoded data removed]",
      "text/plain": [
       "<Figure size 640x480 with 1 Axes>"
      ]
     },
     "metadata": {},
     "output_type": "display_data"
    }
   ],
   "source": [
    "embarked.plot(kind='bar', x='Embarked')\n",
    "plt.xlabel('Port of Embarkation')\n",
    "plt.ylabel('Survival Rate')\n",
    "plt.title('Barplot Survival Rate by Port of Embarkation')\n",
    "\n",
    "plt.show()"
   ]
  },
  {
   "cell_type": "markdown",
   "id": "30f65ae2-3083-4213-9aaf-38017376770a",
   "metadata": {},
   "source": [
    "Passengers who boarded at Cherbourg had a higher survival rate. It is unclear why this was the case; it could be due to their socioeconomic status, cabin location, or some other factor."
   ]
  },
  {
   "cell_type": "code",
   "execution_count": 136,
   "id": "5d6ce240-5d95-49e4-b505-a63da5ca3d84",
   "metadata": {},
   "outputs": [
    {
     "data": {
      "text/html": [
       "<div>\n",
       "<style scoped>\n",
       "    .dataframe tbody tr th:only-of-type {\n",
       "        vertical-align: middle;\n",
       "    }\n",
       "\n",
       "    .dataframe tbody tr th {\n",
       "        vertical-align: top;\n",
       "    }\n",
       "\n",
       "    .dataframe thead th {\n",
       "        text-align: right;\n",
       "    }\n",
       "</style>\n",
       "<table border=\"1\" class=\"dataframe\">\n",
       "  <thead>\n",
       "    <tr style=\"text-align: right;\">\n",
       "      <th>Pclass</th>\n",
       "      <th>1</th>\n",
       "      <th>2</th>\n",
       "      <th>3</th>\n",
       "    </tr>\n",
       "    <tr>\n",
       "      <th>Embarked</th>\n",
       "      <th></th>\n",
       "      <th></th>\n",
       "      <th></th>\n",
       "    </tr>\n",
       "  </thead>\n",
       "  <tbody>\n",
       "    <tr>\n",
       "      <th>C</th>\n",
       "      <td>85</td>\n",
       "      <td>17</td>\n",
       "      <td>66</td>\n",
       "    </tr>\n",
       "    <tr>\n",
       "      <th>Q</th>\n",
       "      <td>2</td>\n",
       "      <td>3</td>\n",
       "      <td>72</td>\n",
       "    </tr>\n",
       "    <tr>\n",
       "      <th>S</th>\n",
       "      <td>127</td>\n",
       "      <td>164</td>\n",
       "      <td>353</td>\n",
       "    </tr>\n",
       "  </tbody>\n",
       "</table>\n",
       "</div>"
      ],
      "text/plain": [
       "Pclass      1    2    3\n",
       "Embarked               \n",
       "C          85   17   66\n",
       "Q           2    3   72\n",
       "S         127  164  353"
      ]
     },
     "execution_count": 136,
     "metadata": {},
     "output_type": "execute_result"
    }
   ],
   "source": [
    "embarked_class = train_tit.groupby(['Embarked', 'Pclass']).size().unstack()\n",
    "embarked_class"
   ]
  },
  {
   "cell_type": "code",
   "execution_count": 137,
   "id": "da82b80d-fec3-416e-9023-be5ed704476b",
   "metadata": {},
   "outputs": [
    {
     "data": {
      "image/png": "[encoded data removed]",
      "text/plain": [
       "<Figure size 640x480 with 1 Axes>"
      ]
     },
     "metadata": {},
     "output_type": "display_data"
    }
   ],
   "source": [
    "ax = embarked_class.plot(kind='bar', stacked=True)\n",
    "\n",
    "# set the axis labels and title\n",
    "ax.set_xlabel('Embarked')\n",
    "ax.set_ylabel('Number of Passengers')\n",
    "ax.set_title('Passenger Classes Embarked at Different Ports')\n",
    "\n",
    "# display the plot\n",
    "plt.show()"
   ]
  },
  {
   "cell_type": "markdown",
   "id": "1ed927a4-94db-4979-a495-55144a993476",
   "metadata": {},
   "source": [
    "The data suggest that the socio-economic status of passengers, rather than the port of embarkation, was a determining factor in survival rates. \n",
    "\n",
    "For example, Cherbourg had a high proportion of first-class passengers, while Queenstown had none. \n",
    "\n",
    "Southampton had a similar number of first-class passengers as Cherbourg, but also a large number of third and second-class passengers.\n",
    "\n",
    "In total, there were 110 first-class passengers out of the 644 who embarked at Southampton  (which included around 60% of third-class passengers).\n",
    "\n",
    "It probably explain why Cherbourg passengers had a better survival rate than Southampton."
   ]
  },
  {
   "cell_type": "markdown",
   "id": "8c0aa814-f4d2-4573-8990-619926d2a89e",
   "metadata": {},
   "source": [
    "## EDA Conclusion"
   ]
  },
  {
   "cell_type": "markdown",
   "id": "72a13c78-deee-458e-a5e3-c30ddac78d73",
   "metadata": {},
   "source": [
    "Through our analysis of the data, we have identified several variables that are most significant in predicting survival rate. These variables include:\n",
    "\n",
    "- `Pclass`: Passengers in the 1st Class had a higher survival rate, particularly among males.\n",
    "- `Sex` : Female passengers had a significantly higher chance of survival.\n",
    "- `Age` : Children under 12 years old had a better chance of survival.\n",
    "- `Parch` and `Sibsp`: Passengers who had family on board had a higher chance of survival compared to those who traveled alone."
   ]
  },
  {
   "cell_type": "code",
   "execution_count": 131,
   "id": "baf13734-b88b-42f9-9f8f-942fe93ffb0a",
   "metadata": {},
   "outputs": [],
   "source": [
    "#Exporting the post analysis csv\n",
    "train_tit.to_csv('train_tit_ok.csv')"
   ]
  },
  {
   "cell_type": "code",
   "execution_count": null,
   "id": "0d34fc9b-be66-46fb-85dd-f4b8c2c602bd",
   "metadata": {},
   "outputs": [],
   "source": []
  }
 ],
 "metadata": {
  "kernelspec": {
   "display_name": "Python 3 (ipykernel)",
   "language": "python",
   "name": "python3"
  },
  "language_info": {
   "codemirror_mode": {
    "name": "ipython",
    "version": 3
   },
   "file_extension": ".py",
   "mimetype": "text/x-python",
   "name": "python",
   "nbconvert_exporter": "python",
   "pygments_lexer": "ipython3",
   "version": "3.10.9"
  }
 },
 "nbformat": 4,
 "nbformat_minor": 5
}
